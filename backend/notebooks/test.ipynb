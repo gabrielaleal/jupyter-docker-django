{
 "cells": [
  {
   "cell_type": "code",
   "execution_count": null,
   "id": "669d95dd",
   "metadata": {},
   "outputs": [],
   "source": [
    "from users.models import User"
   ]
  },
  {
   "cell_type": "code",
   "execution_count": null,
   "id": "09bbd6e3",
   "metadata": {},
   "outputs": [],
   "source": [
    "User"
   ]
  },
  {
   "cell_type": "code",
   "execution_count": null,
   "id": "69bc435e",
   "metadata": {},
   "outputs": [],
   "source": [
    "x = User.objects.all()"
   ]
  },
  {
   "cell_type": "code",
   "execution_count": null,
   "id": "e9494a20",
   "metadata": {},
   "outputs": [],
   "source": [
    "x"
   ]
  }
 ],
 "metadata": {
  "kernelspec": {
   "display_name": "Django Shell-Plus",
   "language": "python",
   "name": "django_extensions"
  },
  "language_info": {
   "codemirror_mode": {
    "name": "ipython",
    "version": 3
   },
   "file_extension": ".py",
   "mimetype": "text/x-python",
   "name": "python",
   "nbconvert_exporter": "python",
   "pygments_lexer": "ipython3",
   "version": "3.8.12"
  }
 },
 "nbformat": 4,
 "nbformat_minor": 5
}
