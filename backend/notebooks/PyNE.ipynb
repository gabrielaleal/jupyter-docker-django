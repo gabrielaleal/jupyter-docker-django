{
 "cells": [
  {
   "cell_type": "code",
   "execution_count": 7,
   "id": "669d95dd",
   "metadata": {},
   "outputs": [],
   "source": [
    "from django.db import connection, reset_queries\n",
    "\n",
    "from cinema.models import Award, Person, Movie, Nomination\n",
    "from cinema.choices import MOVIE_GENRES\n",
    "from cinema.utils import print_sql\n",
    "from cinema.populate_database import populate_database"
   ]
  },
  {
   "cell_type": "code",
   "execution_count": 8,
   "id": "b9c17bca",
   "metadata": {},
   "outputs": [],
   "source": [
    "populate_database()\n",
    "\n",
    "# Reset queries so they won't impact future output\n",
    "reset_queries()"
   ]
  },
  {
   "cell_type": "markdown",
   "id": "a25fbc33",
   "metadata": {},
   "source": [
    "# Começando pelo básico"
   ]
  },
  {
   "cell_type": "markdown",
   "id": "f2bec63f",
   "metadata": {},
   "source": [
    "## Filter\n",
    "\n",
    "https://books.agiliq.com/projects/django-orm-cookbook/en/latest/join.html"
   ]
  },
  {
   "cell_type": "code",
   "execution_count": 17,
   "id": "a2dc36e9",
   "metadata": {
    "scrolled": false
   },
   "outputs": [
    {
     "name": "stdout",
     "output_type": "stream",
     "text": [
      "\u001b[34mSELECT\u001b[39;49;00m\u001b[37m \u001b[39;49;00m\u001b[33m\"\u001b[39;49;00m\u001b[33mcinema_movie\u001b[39;49;00m\u001b[33m\"\u001b[39;49;00m\u001b[34m.\u001b[39;49;00m\u001b[33m\"\u001b[39;49;00m\u001b[33mid\u001b[39;49;00m\u001b[33m\"\u001b[39;49;00m,\u001b[37m\u001b[39;49;00m\n",
      "\u001b[37m       \u001b[39;49;00m\u001b[33m\"\u001b[39;49;00m\u001b[33mcinema_movie\u001b[39;49;00m\u001b[33m\"\u001b[39;49;00m\u001b[34m.\u001b[39;49;00m\u001b[33m\"\u001b[39;49;00m\u001b[33mtitle\u001b[39;49;00m\u001b[33m\"\u001b[39;49;00m,\u001b[37m\u001b[39;49;00m\n",
      "\u001b[37m       \u001b[39;49;00m\u001b[33m\"\u001b[39;49;00m\u001b[33mcinema_movie\u001b[39;49;00m\u001b[33m\"\u001b[39;49;00m\u001b[34m.\u001b[39;49;00m\u001b[33m\"\u001b[39;49;00m\u001b[33msynopsis\u001b[39;49;00m\u001b[33m\"\u001b[39;49;00m,\u001b[37m\u001b[39;49;00m\n",
      "\u001b[37m       \u001b[39;49;00m\u001b[33m\"\u001b[39;49;00m\u001b[33mcinema_movie\u001b[39;49;00m\u001b[33m\"\u001b[39;49;00m\u001b[34m.\u001b[39;49;00m\u001b[33m\"\u001b[39;49;00m\u001b[33mgenre\u001b[39;49;00m\u001b[33m\"\u001b[39;49;00m,\u001b[37m\u001b[39;49;00m\n",
      "\u001b[37m       \u001b[39;49;00m\u001b[33m\"\u001b[39;49;00m\u001b[33mcinema_movie\u001b[39;49;00m\u001b[33m\"\u001b[39;49;00m\u001b[34m.\u001b[39;49;00m\u001b[33m\"\u001b[39;49;00m\u001b[33mrelease_date\u001b[39;49;00m\u001b[33m\"\u001b[39;49;00m,\u001b[37m\u001b[39;49;00m\n",
      "\u001b[37m       \u001b[39;49;00m\u001b[33m\"\u001b[39;49;00m\u001b[33mcinema_movie\u001b[39;49;00m\u001b[33m\"\u001b[39;49;00m\u001b[34m.\u001b[39;49;00m\u001b[33m\"\u001b[39;49;00m\u001b[33mis_available_on_netflix\u001b[39;49;00m\u001b[33m\"\u001b[39;49;00m,\u001b[37m\u001b[39;49;00m\n",
      "\u001b[37m       \u001b[39;49;00m\u001b[33m\"\u001b[39;49;00m\u001b[33mcinema_movie\u001b[39;49;00m\u001b[33m\"\u001b[39;49;00m\u001b[34m.\u001b[39;49;00m\u001b[33m\"\u001b[39;49;00m\u001b[33mimdb_rate\u001b[39;49;00m\u001b[33m\"\u001b[39;49;00m,\u001b[37m\u001b[39;49;00m\n",
      "\u001b[37m       \u001b[39;49;00m\u001b[33m\"\u001b[39;49;00m\u001b[33mcinema_movie\u001b[39;49;00m\u001b[33m\"\u001b[39;49;00m\u001b[34m.\u001b[39;49;00m\u001b[33m\"\u001b[39;49;00m\u001b[33mdirector_id\u001b[39;49;00m\u001b[33m\"\u001b[39;49;00m,\u001b[37m\u001b[39;49;00m\n",
      "\u001b[37m       \u001b[39;49;00m\u001b[33m\"\u001b[39;49;00m\u001b[33mcinema_movie\u001b[39;49;00m\u001b[33m\"\u001b[39;49;00m\u001b[34m.\u001b[39;49;00m\u001b[33m\"\u001b[39;49;00m\u001b[33mbudget\u001b[39;49;00m\u001b[33m\"\u001b[39;49;00m\u001b[37m\u001b[39;49;00m\n",
      "\u001b[34mFROM\u001b[39;49;00m\u001b[37m \u001b[39;49;00m\u001b[33m\"\u001b[39;49;00m\u001b[33mcinema_movie\u001b[39;49;00m\u001b[33m\"\u001b[39;49;00m\u001b[37m\u001b[39;49;00m\n",
      "\u001b[34mWHERE\u001b[39;49;00m\u001b[37m \u001b[39;49;00m\u001b[33m\"\u001b[39;49;00m\u001b[33mcinema_movie\u001b[39;49;00m\u001b[33m\"\u001b[39;49;00m\u001b[34m.\u001b[39;49;00m\u001b[33m\"\u001b[39;49;00m\u001b[33mgenre\u001b[39;49;00m\u001b[33m\"\u001b[39;49;00m\u001b[37m \u001b[39;49;00m=\u001b[37m \u001b[39;49;00m\u001b[34maction\u001b[39;49;00m\u001b[37m\u001b[39;49;00m\n",
      "\n"
     ]
    }
   ],
   "source": [
    "queryset = Movie.objects.filter(genre=MOVIE_GENRES.action)\n",
    "\n",
    "print_sql(queryset)"
   ]
  },
  {
   "cell_type": "markdown",
   "id": "8de4d4ab",
   "metadata": {},
   "source": [
    "## Exclude"
   ]
  },
  {
   "cell_type": "code",
   "execution_count": 9,
   "id": "0aeb6330",
   "metadata": {
    "scrolled": false
   },
   "outputs": [
    {
     "name": "stdout",
     "output_type": "stream",
     "text": [
      "\u001b[34mSELECT\u001b[39;49;00m\u001b[37m \u001b[39;49;00m\u001b[33m\"\u001b[39;49;00m\u001b[33mcinema_movie\u001b[39;49;00m\u001b[33m\"\u001b[39;49;00m\u001b[34m.\u001b[39;49;00m\u001b[33m\"\u001b[39;49;00m\u001b[33mid\u001b[39;49;00m\u001b[33m\"\u001b[39;49;00m,\u001b[37m\u001b[39;49;00m\n",
      "\u001b[37m       \u001b[39;49;00m\u001b[33m\"\u001b[39;49;00m\u001b[33mcinema_movie\u001b[39;49;00m\u001b[33m\"\u001b[39;49;00m\u001b[34m.\u001b[39;49;00m\u001b[33m\"\u001b[39;49;00m\u001b[33mtitle\u001b[39;49;00m\u001b[33m\"\u001b[39;49;00m,\u001b[37m\u001b[39;49;00m\n",
      "\u001b[37m       \u001b[39;49;00m\u001b[33m\"\u001b[39;49;00m\u001b[33mcinema_movie\u001b[39;49;00m\u001b[33m\"\u001b[39;49;00m\u001b[34m.\u001b[39;49;00m\u001b[33m\"\u001b[39;49;00m\u001b[33msynopsis\u001b[39;49;00m\u001b[33m\"\u001b[39;49;00m,\u001b[37m\u001b[39;49;00m\n",
      "\u001b[37m       \u001b[39;49;00m\u001b[33m\"\u001b[39;49;00m\u001b[33mcinema_movie\u001b[39;49;00m\u001b[33m\"\u001b[39;49;00m\u001b[34m.\u001b[39;49;00m\u001b[33m\"\u001b[39;49;00m\u001b[33mgenre\u001b[39;49;00m\u001b[33m\"\u001b[39;49;00m,\u001b[37m\u001b[39;49;00m\n",
      "\u001b[37m       \u001b[39;49;00m\u001b[33m\"\u001b[39;49;00m\u001b[33mcinema_movie\u001b[39;49;00m\u001b[33m\"\u001b[39;49;00m\u001b[34m.\u001b[39;49;00m\u001b[33m\"\u001b[39;49;00m\u001b[33mrelease_date\u001b[39;49;00m\u001b[33m\"\u001b[39;49;00m,\u001b[37m\u001b[39;49;00m\n",
      "\u001b[37m       \u001b[39;49;00m\u001b[33m\"\u001b[39;49;00m\u001b[33mcinema_movie\u001b[39;49;00m\u001b[33m\"\u001b[39;49;00m\u001b[34m.\u001b[39;49;00m\u001b[33m\"\u001b[39;49;00m\u001b[33mdirector_id\u001b[39;49;00m\u001b[33m\"\u001b[39;49;00m,\u001b[37m\u001b[39;49;00m\n",
      "\u001b[37m       \u001b[39;49;00m\u001b[33m\"\u001b[39;49;00m\u001b[33mcinema_movie\u001b[39;49;00m\u001b[33m\"\u001b[39;49;00m\u001b[34m.\u001b[39;49;00m\u001b[33m\"\u001b[39;49;00m\u001b[33mis_available_on_netflix\u001b[39;49;00m\u001b[33m\"\u001b[39;49;00m,\u001b[37m\u001b[39;49;00m\n",
      "\u001b[37m       \u001b[39;49;00m\u001b[33m\"\u001b[39;49;00m\u001b[33mcinema_movie\u001b[39;49;00m\u001b[33m\"\u001b[39;49;00m\u001b[34m.\u001b[39;49;00m\u001b[33m\"\u001b[39;49;00m\u001b[33mimdb_rate\u001b[39;49;00m\u001b[33m\"\u001b[39;49;00m\u001b[37m\u001b[39;49;00m\n",
      "\u001b[34mFROM\u001b[39;49;00m\u001b[37m \u001b[39;49;00m\u001b[33m\"\u001b[39;49;00m\u001b[33mcinema_movie\u001b[39;49;00m\u001b[33m\"\u001b[39;49;00m\u001b[37m\u001b[39;49;00m\n",
      "\u001b[34mWHERE\u001b[39;49;00m\u001b[37m \u001b[39;49;00m\u001b[34mNOT\u001b[39;49;00m\u001b[37m \u001b[39;49;00m(\u001b[33m\"\u001b[39;49;00m\u001b[33mcinema_movie\u001b[39;49;00m\u001b[33m\"\u001b[39;49;00m\u001b[34m.\u001b[39;49;00m\u001b[33m\"\u001b[39;49;00m\u001b[33mimdb_rate\u001b[39;49;00m\u001b[33m\"\u001b[39;49;00m\u001b[37m \u001b[39;49;00m>\u001b[37m \u001b[39;49;00m\u001b[34m6.5\u001b[39;49;00m\u001b[37m\u001b[39;49;00m\n",
      "\u001b[37m           \u001b[39;49;00m\u001b[34mAND\u001b[39;49;00m\u001b[37m \u001b[39;49;00m\u001b[33m\"\u001b[39;49;00m\u001b[33mcinema_movie\u001b[39;49;00m\u001b[33m\"\u001b[39;49;00m\u001b[34m.\u001b[39;49;00m\u001b[33m\"\u001b[39;49;00m\u001b[33mimdb_rate\u001b[39;49;00m\u001b[33m\"\u001b[39;49;00m\u001b[37m \u001b[39;49;00m\u001b[34mIS\u001b[39;49;00m\u001b[37m \u001b[39;49;00m\u001b[34mNOT\u001b[39;49;00m\u001b[37m \u001b[39;49;00m\u001b[34mNULL\u001b[39;49;00m)\u001b[37m\u001b[39;49;00m\n",
      "\n"
     ]
    }
   ],
   "source": [
    "queryset = Movie.objects.exclude(imdb_rate__gt=6.5)\n",
    "\n",
    "print_sql(queryset)"
   ]
  },
  {
   "cell_type": "markdown",
   "id": "deb0b739",
   "metadata": {},
   "source": [
    "## Filtrando \"através\" de tabelas\n",
    "https://docs.djangoproject.com/en/4.0/topics/db/queries/#lookups-that-span-relationships"
   ]
  },
  {
   "cell_type": "code",
   "execution_count": 10,
   "id": "82cafe2f",
   "metadata": {
    "scrolled": false
   },
   "outputs": [
    {
     "name": "stdout",
     "output_type": "stream",
     "text": [
      "\u001b[34mSELECT\u001b[39;49;00m\u001b[37m \u001b[39;49;00m\u001b[33m\"\u001b[39;49;00m\u001b[33mcinema_movie\u001b[39;49;00m\u001b[33m\"\u001b[39;49;00m\u001b[34m.\u001b[39;49;00m\u001b[33m\"\u001b[39;49;00m\u001b[33mid\u001b[39;49;00m\u001b[33m\"\u001b[39;49;00m,\u001b[37m\u001b[39;49;00m\n",
      "\u001b[37m       \u001b[39;49;00m\u001b[33m\"\u001b[39;49;00m\u001b[33mcinema_movie\u001b[39;49;00m\u001b[33m\"\u001b[39;49;00m\u001b[34m.\u001b[39;49;00m\u001b[33m\"\u001b[39;49;00m\u001b[33mtitle\u001b[39;49;00m\u001b[33m\"\u001b[39;49;00m,\u001b[37m\u001b[39;49;00m\n",
      "\u001b[37m       \u001b[39;49;00m\u001b[33m\"\u001b[39;49;00m\u001b[33mcinema_movie\u001b[39;49;00m\u001b[33m\"\u001b[39;49;00m\u001b[34m.\u001b[39;49;00m\u001b[33m\"\u001b[39;49;00m\u001b[33msynopsis\u001b[39;49;00m\u001b[33m\"\u001b[39;49;00m,\u001b[37m\u001b[39;49;00m\n",
      "\u001b[37m       \u001b[39;49;00m\u001b[33m\"\u001b[39;49;00m\u001b[33mcinema_movie\u001b[39;49;00m\u001b[33m\"\u001b[39;49;00m\u001b[34m.\u001b[39;49;00m\u001b[33m\"\u001b[39;49;00m\u001b[33mgenre\u001b[39;49;00m\u001b[33m\"\u001b[39;49;00m,\u001b[37m\u001b[39;49;00m\n",
      "\u001b[37m       \u001b[39;49;00m\u001b[33m\"\u001b[39;49;00m\u001b[33mcinema_movie\u001b[39;49;00m\u001b[33m\"\u001b[39;49;00m\u001b[34m.\u001b[39;49;00m\u001b[33m\"\u001b[39;49;00m\u001b[33mrelease_date\u001b[39;49;00m\u001b[33m\"\u001b[39;49;00m,\u001b[37m\u001b[39;49;00m\n",
      "\u001b[37m       \u001b[39;49;00m\u001b[33m\"\u001b[39;49;00m\u001b[33mcinema_movie\u001b[39;49;00m\u001b[33m\"\u001b[39;49;00m\u001b[34m.\u001b[39;49;00m\u001b[33m\"\u001b[39;49;00m\u001b[33mdirector_id\u001b[39;49;00m\u001b[33m\"\u001b[39;49;00m,\u001b[37m\u001b[39;49;00m\n",
      "\u001b[37m       \u001b[39;49;00m\u001b[33m\"\u001b[39;49;00m\u001b[33mcinema_movie\u001b[39;49;00m\u001b[33m\"\u001b[39;49;00m\u001b[34m.\u001b[39;49;00m\u001b[33m\"\u001b[39;49;00m\u001b[33mis_available_on_netflix\u001b[39;49;00m\u001b[33m\"\u001b[39;49;00m,\u001b[37m\u001b[39;49;00m\n",
      "\u001b[37m       \u001b[39;49;00m\u001b[33m\"\u001b[39;49;00m\u001b[33mcinema_movie\u001b[39;49;00m\u001b[33m\"\u001b[39;49;00m\u001b[34m.\u001b[39;49;00m\u001b[33m\"\u001b[39;49;00m\u001b[33mimdb_rate\u001b[39;49;00m\u001b[33m\"\u001b[39;49;00m\u001b[37m\u001b[39;49;00m\n",
      "\u001b[34mFROM\u001b[39;49;00m\u001b[37m \u001b[39;49;00m\u001b[33m\"\u001b[39;49;00m\u001b[33mcinema_movie\u001b[39;49;00m\u001b[33m\"\u001b[39;49;00m\u001b[37m\u001b[39;49;00m\n",
      "\u001b[34mINNER\u001b[39;49;00m\u001b[37m \u001b[39;49;00m\u001b[34mJOIN\u001b[39;49;00m\u001b[37m \u001b[39;49;00m\u001b[33m\"\u001b[39;49;00m\u001b[33mcinema_person\u001b[39;49;00m\u001b[33m\"\u001b[39;49;00m\u001b[37m \u001b[39;49;00m\u001b[34mON\u001b[39;49;00m\u001b[37m \u001b[39;49;00m(\u001b[33m\"\u001b[39;49;00m\u001b[33mcinema_movie\u001b[39;49;00m\u001b[33m\"\u001b[39;49;00m\u001b[34m.\u001b[39;49;00m\u001b[33m\"\u001b[39;49;00m\u001b[33mdirector_id\u001b[39;49;00m\u001b[33m\"\u001b[39;49;00m\u001b[37m \u001b[39;49;00m=\u001b[37m \u001b[39;49;00m\u001b[33m\"\u001b[39;49;00m\u001b[33mcinema_person\u001b[39;49;00m\u001b[33m\"\u001b[39;49;00m\u001b[34m.\u001b[39;49;00m\u001b[33m\"\u001b[39;49;00m\u001b[33mid\u001b[39;49;00m\u001b[33m\"\u001b[39;49;00m)\u001b[37m\u001b[39;49;00m\n",
      "\u001b[34mWHERE\u001b[39;49;00m\u001b[37m \u001b[39;49;00m\u001b[33m\"\u001b[39;49;00m\u001b[33mcinema_person\u001b[39;49;00m\u001b[33m\"\u001b[39;49;00m\u001b[34m.\u001b[39;49;00m\u001b[33m\"\u001b[39;49;00m\u001b[33mname\u001b[39;49;00m\u001b[33m\"\u001b[39;49;00m\u001b[37m \u001b[39;49;00m=\u001b[37m \u001b[39;49;00mTim\u001b[37m \u001b[39;49;00mBurton\u001b[37m\u001b[39;49;00m\n",
      "\n"
     ]
    }
   ],
   "source": [
    "queryset = Movie.objects.filter(director__name=\"Tim Burton\")\n",
    "# str(queryset.query)\n",
    "print_sql(queryset)"
   ]
  },
  {
   "cell_type": "markdown",
   "id": "08577a36",
   "metadata": {},
   "source": [
    "## Cuidado com alguns detalhes\n",
    "\n",
    "https://stackoverflow.com/questions/8164675/chaining-multiple-filter-in-django-is-this-a-bug/28253623#28253623\n",
    "\n",
    "Doc do Django: https://docs.djangoproject.com/en/3.2/topics/db/queries/#spanning-multi-valued-relationships"
   ]
  },
  {
   "cell_type": "code",
   "execution_count": 11,
   "id": "0e8254fd",
   "metadata": {
    "scrolled": true
   },
   "outputs": [
    {
     "name": "stdout",
     "output_type": "stream",
     "text": [
      "\u001b[34mSELECT\u001b[39;49;00m\u001b[37m \u001b[39;49;00m\u001b[33m\"\u001b[39;49;00m\u001b[33mcinema_person\u001b[39;49;00m\u001b[33m\"\u001b[39;49;00m\u001b[34m.\u001b[39;49;00m\u001b[33m\"\u001b[39;49;00m\u001b[33mid\u001b[39;49;00m\u001b[33m\"\u001b[39;49;00m,\u001b[37m\u001b[39;49;00m\n",
      "\u001b[37m       \u001b[39;49;00m\u001b[33m\"\u001b[39;49;00m\u001b[33mcinema_person\u001b[39;49;00m\u001b[33m\"\u001b[39;49;00m\u001b[34m.\u001b[39;49;00m\u001b[33m\"\u001b[39;49;00m\u001b[33mname\u001b[39;49;00m\u001b[33m\"\u001b[39;49;00m,\u001b[37m\u001b[39;49;00m\n",
      "\u001b[37m       \u001b[39;49;00m\u001b[33m\"\u001b[39;49;00m\u001b[33mcinema_person\u001b[39;49;00m\u001b[33m\"\u001b[39;49;00m\u001b[34m.\u001b[39;49;00m\u001b[33m\"\u001b[39;49;00m\u001b[33mbirth_date\u001b[39;49;00m\u001b[33m\"\u001b[39;49;00m,\u001b[37m\u001b[39;49;00m\n",
      "\u001b[37m       \u001b[39;49;00m\u001b[33m\"\u001b[39;49;00m\u001b[33mcinema_person\u001b[39;49;00m\u001b[33m\"\u001b[39;49;00m\u001b[34m.\u001b[39;49;00m\u001b[33m\"\u001b[39;49;00m\u001b[33mdeath_date\u001b[39;49;00m\u001b[33m\"\u001b[39;49;00m\u001b[37m\u001b[39;49;00m\n",
      "\u001b[34mFROM\u001b[39;49;00m\u001b[37m \u001b[39;49;00m\u001b[33m\"\u001b[39;49;00m\u001b[33mcinema_person\u001b[39;49;00m\u001b[33m\"\u001b[39;49;00m\u001b[37m\u001b[39;49;00m\n",
      "\u001b[34mINNER\u001b[39;49;00m\u001b[37m \u001b[39;49;00m\u001b[34mJOIN\u001b[39;49;00m\u001b[37m \u001b[39;49;00m\u001b[33m\"\u001b[39;49;00m\u001b[33mcinema_movie\u001b[39;49;00m\u001b[33m\"\u001b[39;49;00m\u001b[37m \u001b[39;49;00m\u001b[34mON\u001b[39;49;00m\u001b[37m \u001b[39;49;00m(\u001b[33m\"\u001b[39;49;00m\u001b[33mcinema_person\u001b[39;49;00m\u001b[33m\"\u001b[39;49;00m\u001b[34m.\u001b[39;49;00m\u001b[33m\"\u001b[39;49;00m\u001b[33mid\u001b[39;49;00m\u001b[33m\"\u001b[39;49;00m\u001b[37m \u001b[39;49;00m=\u001b[37m \u001b[39;49;00m\u001b[33m\"\u001b[39;49;00m\u001b[33mcinema_movie\u001b[39;49;00m\u001b[33m\"\u001b[39;49;00m\u001b[34m.\u001b[39;49;00m\u001b[33m\"\u001b[39;49;00m\u001b[33mdirector_id\u001b[39;49;00m\u001b[33m\"\u001b[39;49;00m)\u001b[37m\u001b[39;49;00m\n",
      "\u001b[34mWHERE\u001b[39;49;00m\u001b[37m \u001b[39;49;00m(\u001b[33m\"\u001b[39;49;00m\u001b[33mcinema_movie\u001b[39;49;00m\u001b[33m\"\u001b[39;49;00m\u001b[34m.\u001b[39;49;00m\u001b[33m\"\u001b[39;49;00m\u001b[33mrelease_date\u001b[39;49;00m\u001b[33m\"\u001b[39;49;00m\u001b[37m \u001b[39;49;00m>\u001b[37m \u001b[39;49;00m\u001b[34m2000\u001b[39;49;00m-\u001b[34m12\u001b[39;49;00m-\u001b[34m31\u001b[39;49;00m\u001b[37m\u001b[39;49;00m\n",
      "\u001b[37m       \u001b[39;49;00m\u001b[34mAND\u001b[39;49;00m\u001b[37m \u001b[39;49;00mUPPER(\u001b[33m\"\u001b[39;49;00m\u001b[33mcinema_movie\u001b[39;49;00m\u001b[33m\"\u001b[39;49;00m\u001b[34m.\u001b[39;49;00m\u001b[33m\"\u001b[39;49;00m\u001b[33mtitle\u001b[39;49;00m\u001b[33m\"\u001b[39;49;00m::\u001b[36mtext\u001b[39;49;00m)\u001b[37m \u001b[39;49;00m\u001b[34mLIKE\u001b[39;49;00m\u001b[37m \u001b[39;49;00mUPPER(%batman%))\u001b[37m\u001b[39;49;00m\n",
      "\n"
     ]
    },
    {
     "data": {
      "text/plain": [
       "<QuerySet [<Person: Christopher Nolan>]>"
      ]
     },
     "execution_count": 11,
     "metadata": {},
     "output_type": "execute_result"
    }
   ],
   "source": [
    "queryset_1 = Person.objects.filter(\n",
    "    movies_directed__title__icontains=\"batman\", movies_directed__release_date__year__gt=2000\n",
    ")\n",
    "\n",
    "print_sql(queryset_1)\n",
    "\n",
    "queryset_1"
   ]
  },
  {
   "cell_type": "code",
   "execution_count": 7,
   "id": "d2eaf424",
   "metadata": {
    "scrolled": true
   },
   "outputs": [
    {
     "name": "stdout",
     "output_type": "stream",
     "text": [
      "\u001b[34mSELECT\u001b[39;49;00m\u001b[37m \u001b[39;49;00m\u001b[34mDISTINCT\u001b[39;49;00m\u001b[37m \u001b[39;49;00m\u001b[33m\"\u001b[39;49;00m\u001b[33mcinema_person\u001b[39;49;00m\u001b[33m\"\u001b[39;49;00m\u001b[34m.\u001b[39;49;00m\u001b[33m\"\u001b[39;49;00m\u001b[33mid\u001b[39;49;00m\u001b[33m\"\u001b[39;49;00m,\u001b[37m\u001b[39;49;00m\n",
      "\u001b[37m                \u001b[39;49;00m\u001b[33m\"\u001b[39;49;00m\u001b[33mcinema_person\u001b[39;49;00m\u001b[33m\"\u001b[39;49;00m\u001b[34m.\u001b[39;49;00m\u001b[33m\"\u001b[39;49;00m\u001b[33mname\u001b[39;49;00m\u001b[33m\"\u001b[39;49;00m,\u001b[37m\u001b[39;49;00m\n",
      "\u001b[37m                \u001b[39;49;00m\u001b[33m\"\u001b[39;49;00m\u001b[33mcinema_person\u001b[39;49;00m\u001b[33m\"\u001b[39;49;00m\u001b[34m.\u001b[39;49;00m\u001b[33m\"\u001b[39;49;00m\u001b[33mbirth_date\u001b[39;49;00m\u001b[33m\"\u001b[39;49;00m,\u001b[37m\u001b[39;49;00m\n",
      "\u001b[37m                \u001b[39;49;00m\u001b[33m\"\u001b[39;49;00m\u001b[33mcinema_person\u001b[39;49;00m\u001b[33m\"\u001b[39;49;00m\u001b[34m.\u001b[39;49;00m\u001b[33m\"\u001b[39;49;00m\u001b[33mdeath_date\u001b[39;49;00m\u001b[33m\"\u001b[39;49;00m\u001b[37m\u001b[39;49;00m\n",
      "\u001b[34mFROM\u001b[39;49;00m\u001b[37m \u001b[39;49;00m\u001b[33m\"\u001b[39;49;00m\u001b[33mcinema_person\u001b[39;49;00m\u001b[33m\"\u001b[39;49;00m\u001b[37m\u001b[39;49;00m\n",
      "\u001b[34mINNER\u001b[39;49;00m\u001b[37m \u001b[39;49;00m\u001b[34mJOIN\u001b[39;49;00m\u001b[37m \u001b[39;49;00m\u001b[33m\"\u001b[39;49;00m\u001b[33mcinema_movie\u001b[39;49;00m\u001b[33m\"\u001b[39;49;00m\u001b[37m \u001b[39;49;00m\u001b[34mON\u001b[39;49;00m\u001b[37m \u001b[39;49;00m(\u001b[33m\"\u001b[39;49;00m\u001b[33mcinema_person\u001b[39;49;00m\u001b[33m\"\u001b[39;49;00m\u001b[34m.\u001b[39;49;00m\u001b[33m\"\u001b[39;49;00m\u001b[33mid\u001b[39;49;00m\u001b[33m\"\u001b[39;49;00m\u001b[37m \u001b[39;49;00m=\u001b[37m \u001b[39;49;00m\u001b[33m\"\u001b[39;49;00m\u001b[33mcinema_movie\u001b[39;49;00m\u001b[33m\"\u001b[39;49;00m\u001b[34m.\u001b[39;49;00m\u001b[33m\"\u001b[39;49;00m\u001b[33mdirector_id\u001b[39;49;00m\u001b[33m\"\u001b[39;49;00m)\u001b[37m\u001b[39;49;00m\n",
      "\u001b[34mINNER\u001b[39;49;00m\u001b[37m \u001b[39;49;00m\u001b[34mJOIN\u001b[39;49;00m\u001b[37m \u001b[39;49;00m\u001b[33m\"\u001b[39;49;00m\u001b[33mcinema_movie\u001b[39;49;00m\u001b[33m\"\u001b[39;49;00m\u001b[37m \u001b[39;49;00mT3\u001b[37m \u001b[39;49;00m\u001b[34mON\u001b[39;49;00m\u001b[37m \u001b[39;49;00m(\u001b[33m\"\u001b[39;49;00m\u001b[33mcinema_person\u001b[39;49;00m\u001b[33m\"\u001b[39;49;00m\u001b[34m.\u001b[39;49;00m\u001b[33m\"\u001b[39;49;00m\u001b[33mid\u001b[39;49;00m\u001b[33m\"\u001b[39;49;00m\u001b[37m \u001b[39;49;00m=\u001b[37m \u001b[39;49;00mT3\u001b[34m.\u001b[39;49;00m\u001b[33m\"\u001b[39;49;00m\u001b[33mdirector_id\u001b[39;49;00m\u001b[33m\"\u001b[39;49;00m)\u001b[37m\u001b[39;49;00m\n",
      "\u001b[34mWHERE\u001b[39;49;00m\u001b[37m \u001b[39;49;00m(UPPER(\u001b[33m\"\u001b[39;49;00m\u001b[33mcinema_movie\u001b[39;49;00m\u001b[33m\"\u001b[39;49;00m\u001b[34m.\u001b[39;49;00m\u001b[33m\"\u001b[39;49;00m\u001b[33mtitle\u001b[39;49;00m\u001b[33m\"\u001b[39;49;00m::\u001b[36mtext\u001b[39;49;00m)\u001b[37m \u001b[39;49;00m\u001b[34mLIKE\u001b[39;49;00m\u001b[37m \u001b[39;49;00mUPPER(%batman%)\u001b[37m\u001b[39;49;00m\n",
      "\u001b[37m       \u001b[39;49;00m\u001b[34mAND\u001b[39;49;00m\u001b[37m \u001b[39;49;00mT3\u001b[34m.\u001b[39;49;00m\u001b[33m\"\u001b[39;49;00m\u001b[33mrelease_date\u001b[39;49;00m\u001b[33m\"\u001b[39;49;00m\u001b[37m \u001b[39;49;00m>\u001b[37m \u001b[39;49;00m\u001b[34m2000\u001b[39;49;00m-\u001b[34m12\u001b[39;49;00m-\u001b[34m31\u001b[39;49;00m)\u001b[37m\u001b[39;49;00m\n",
      "\n"
     ]
    },
    {
     "data": {
      "text/plain": [
       "<QuerySet [<Person: Tim Burton>, <Person: Christopher Nolan>]>"
      ]
     },
     "execution_count": 7,
     "metadata": {},
     "output_type": "execute_result"
    }
   ],
   "source": [
    "queryset_2 = Person.objects.filter(movies_directed__title__icontains=\"batman\").filter(\n",
    "    movies_directed__release_date__year__gt=2000\n",
    ").distinct()\n",
    "\n",
    "print_sql(queryset_2)\n",
    "\n",
    "queryset_2"
   ]
  },
  {
   "cell_type": "markdown",
   "id": "9e1abe68",
   "metadata": {},
   "source": [
    "queryset_1 vai filtrar por diretores que já dirigiram filmes com \"batman\" no título **e** lançados depois de 2000.\n",
    "\n",
    "Já queryset_2 vai filtrar por diretores que tanto já dirigiram filmes com \"batman\" no título quanto filmes lançados depois de 2000."
   ]
  },
  {
   "cell_type": "markdown",
   "id": "d5e3ef4c",
   "metadata": {},
   "source": [
    "Isso acontece por causa da forma como o Django processa o filter; tudo dentro de uma única chamada filter() é aplicado simultaneamente para filtrar os itens que correspondem a todos esses requisitos. Já chamadas filter() sucessivas restringem ainda mais o conjunto de objetos, mas para relações multivaloradas, elas se aplicam a qualquer objeto vinculado ao modelo primário, não necessariamente àqueles objetos que foram selecionados por uma chamada filter() anterior.\n",
    "\n",
    "**Obs**: O mesmo não acontece com .exclude(). Tudo dentro de uma única chamada exclude() não se refere necessariamente ao mesmo item. Para conseguir dar um exclude em objetos que vão dar match com as condições dadas, é preciso realizar duas consultas.\n",
    "\n",
    "Exemplo da doc (adaptar):\n",
    "Blog.objects.exclude(\n",
    "    entry__in=Entry.objects.filter(\n",
    "        headline__contains='Lennon',\n",
    "        pub_date__year=2008,\n",
    "    ),\n",
    ")"
   ]
  },
  {
   "cell_type": "markdown",
   "id": "8377a715",
   "metadata": {},
   "source": [
    "# Problema de N+1"
   ]
  },
  {
   "cell_type": "markdown",
   "id": "96645cd1",
   "metadata": {},
   "source": [
    "O ORM do Django faz com que a gente interaja com o banco de dados relacional de forma que parece natural pro paradigma de orientação a objetos. Então se no nosso código a gente faz algo como isso aqui, onde temos o queryset de um model e depois iteramos pelo queryset acessando um atributo do objeto e um atributo de um objeto referenciado pelo objeto, isso parece ser certo."
   ]
  },
  {
   "cell_type": "code",
   "execution_count": 12,
   "id": "e26e11a7",
   "metadata": {
    "scrolled": true
   },
   "outputs": [
    {
     "name": "stdout",
     "output_type": "stream",
     "text": [
      "1. >Deep Water< was directed by Adrian Lyne\n",
      "2. >Batman< was directed by Tim Burton\n",
      "3. >Batman Returns< was directed by Tim Burton\n",
      "4. >Batman Begins< was directed by Christopher Nolan\n",
      "5. >The Dark Knight< was directed by Christopher Nolan\n",
      "6. >The Dark Knight Rises< was directed by Christopher Nolan\n",
      "7. >Inglourious Basterds< was directed by Quentin Tarantino\n",
      "8. >Once Upon a Time in... Hollywood< was directed by Quentin Tarantino\n",
      "9. >Knives Out< was directed by Rian Johnson\n",
      "10. >Shutter Island< was directed by Martin Scorsese\n",
      "11. >Hide and Seek< was directed by John Polson\n",
      "12. >13 Going on 30< was directed by Gary Winick\n",
      "13. >Don't Look Up< was directed by Adam McKay\n",
      "14. >Big Fish< was directed by Tim Burton\n"
     ]
    }
   ],
   "source": [
    "reset_queries()\n",
    "\n",
    "queryset = Movie.objects.all()\n",
    "\n",
    "for i, movie in enumerate(queryset, start=1):\n",
    "    print(f\"{i}. >{movie.title}< was directed by {movie.director.name}\")"
   ]
  },
  {
   "cell_type": "markdown",
   "id": "8e62c8bd",
   "metadata": {},
   "source": [
    "Mas, na verdade, para cada iteração do for, a gente tá acessando o banco de dados duas vezes (fazendo duas queries). A gente pode conferir isso usando o `connection.queries`:"
   ]
  },
  {
   "cell_type": "code",
   "execution_count": 13,
   "id": "a8315f3a",
   "metadata": {
    "scrolled": true
   },
   "outputs": [
    {
     "data": {
      "text/plain": [
       "[{'sql': 'SELECT \"cinema_movie\".\"id\", \"cinema_movie\".\"title\", \"cinema_movie\".\"synopsis\", \"cinema_movie\".\"genre\", \"cinema_movie\".\"release_date\", \"cinema_movie\".\"director_id\", \"cinema_movie\".\"is_available_on_netflix\", \"cinema_movie\".\"imdb_rate\" FROM \"cinema_movie\"',\n",
       "  'time': '0.001'},\n",
       " {'sql': 'SELECT \"cinema_person\".\"id\", \"cinema_person\".\"name\", \"cinema_person\".\"birth_date\", \"cinema_person\".\"death_date\" FROM \"cinema_person\" WHERE \"cinema_person\".\"id\" = 1128 LIMIT 21',\n",
       "  'time': '0.000'},\n",
       " {'sql': 'SELECT \"cinema_person\".\"id\", \"cinema_person\".\"name\", \"cinema_person\".\"birth_date\", \"cinema_person\".\"death_date\" FROM \"cinema_person\" WHERE \"cinema_person\".\"id\" = 1129 LIMIT 21',\n",
       "  'time': '0.000'},\n",
       " {'sql': 'SELECT \"cinema_person\".\"id\", \"cinema_person\".\"name\", \"cinema_person\".\"birth_date\", \"cinema_person\".\"death_date\" FROM \"cinema_person\" WHERE \"cinema_person\".\"id\" = 1129 LIMIT 21',\n",
       "  'time': '0.000'},\n",
       " {'sql': 'SELECT \"cinema_person\".\"id\", \"cinema_person\".\"name\", \"cinema_person\".\"birth_date\", \"cinema_person\".\"death_date\" FROM \"cinema_person\" WHERE \"cinema_person\".\"id\" = 1130 LIMIT 21',\n",
       "  'time': '0.000'},\n",
       " {'sql': 'SELECT \"cinema_person\".\"id\", \"cinema_person\".\"name\", \"cinema_person\".\"birth_date\", \"cinema_person\".\"death_date\" FROM \"cinema_person\" WHERE \"cinema_person\".\"id\" = 1130 LIMIT 21',\n",
       "  'time': '0.000'},\n",
       " {'sql': 'SELECT \"cinema_person\".\"id\", \"cinema_person\".\"name\", \"cinema_person\".\"birth_date\", \"cinema_person\".\"death_date\" FROM \"cinema_person\" WHERE \"cinema_person\".\"id\" = 1130 LIMIT 21',\n",
       "  'time': '0.000'},\n",
       " {'sql': 'SELECT \"cinema_person\".\"id\", \"cinema_person\".\"name\", \"cinema_person\".\"birth_date\", \"cinema_person\".\"death_date\" FROM \"cinema_person\" WHERE \"cinema_person\".\"id\" = 1131 LIMIT 21',\n",
       "  'time': '0.000'},\n",
       " {'sql': 'SELECT \"cinema_person\".\"id\", \"cinema_person\".\"name\", \"cinema_person\".\"birth_date\", \"cinema_person\".\"death_date\" FROM \"cinema_person\" WHERE \"cinema_person\".\"id\" = 1131 LIMIT 21',\n",
       "  'time': '0.000'},\n",
       " {'sql': 'SELECT \"cinema_person\".\"id\", \"cinema_person\".\"name\", \"cinema_person\".\"birth_date\", \"cinema_person\".\"death_date\" FROM \"cinema_person\" WHERE \"cinema_person\".\"id\" = 1132 LIMIT 21',\n",
       "  'time': '0.000'},\n",
       " {'sql': 'SELECT \"cinema_person\".\"id\", \"cinema_person\".\"name\", \"cinema_person\".\"birth_date\", \"cinema_person\".\"death_date\" FROM \"cinema_person\" WHERE \"cinema_person\".\"id\" = 1133 LIMIT 21',\n",
       "  'time': '0.000'},\n",
       " {'sql': 'SELECT \"cinema_person\".\"id\", \"cinema_person\".\"name\", \"cinema_person\".\"birth_date\", \"cinema_person\".\"death_date\" FROM \"cinema_person\" WHERE \"cinema_person\".\"id\" = 1134 LIMIT 21',\n",
       "  'time': '0.000'},\n",
       " {'sql': 'SELECT \"cinema_person\".\"id\", \"cinema_person\".\"name\", \"cinema_person\".\"birth_date\", \"cinema_person\".\"death_date\" FROM \"cinema_person\" WHERE \"cinema_person\".\"id\" = 1135 LIMIT 21',\n",
       "  'time': '0.000'},\n",
       " {'sql': 'SELECT \"cinema_person\".\"id\", \"cinema_person\".\"name\", \"cinema_person\".\"birth_date\", \"cinema_person\".\"death_date\" FROM \"cinema_person\" WHERE \"cinema_person\".\"id\" = 1136 LIMIT 21',\n",
       "  'time': '0.000'},\n",
       " {'sql': 'SELECT \"cinema_person\".\"id\", \"cinema_person\".\"name\", \"cinema_person\".\"birth_date\", \"cinema_person\".\"death_date\" FROM \"cinema_person\" WHERE \"cinema_person\".\"id\" = 1129 LIMIT 21',\n",
       "  'time': '0.000'}]"
      ]
     },
     "execution_count": 13,
     "metadata": {},
     "output_type": "execute_result"
    }
   ],
   "source": [
    "connection.queries"
   ]
  },
  {
   "cell_type": "markdown",
   "id": "ab754ffe",
   "metadata": {},
   "source": [
    "## select_related\n",
    "\n",
    "O Django sabe do problema e ele dá uma solução para isso, que é o `select_related`. E é usado da seguinte forma: se você vai iterar por um queryset de um model e você precisa acessar um atributo de um campo desse model que é uma referência a uma outra tabela (um Foreign Key field), você chama o select_related depois do objects e passa o nome do campo."
   ]
  },
  {
   "cell_type": "code",
   "execution_count": 14,
   "id": "ce9b6f62",
   "metadata": {},
   "outputs": [
    {
     "name": "stdout",
     "output_type": "stream",
     "text": [
      "1. >Deep Water< was directed by Adrian Lyne\n",
      "2. >Big Fish< was directed by Tim Burton\n",
      "3. >Batman Returns< was directed by Tim Burton\n",
      "4. >Batman< was directed by Tim Burton\n",
      "5. >The Dark Knight Rises< was directed by Christopher Nolan\n",
      "6. >The Dark Knight< was directed by Christopher Nolan\n",
      "7. >Batman Begins< was directed by Christopher Nolan\n",
      "8. >Once Upon a Time in... Hollywood< was directed by Quentin Tarantino\n",
      "9. >Inglourious Basterds< was directed by Quentin Tarantino\n",
      "10. >Knives Out< was directed by Rian Johnson\n",
      "11. >Shutter Island< was directed by Martin Scorsese\n",
      "12. >Hide and Seek< was directed by John Polson\n",
      "13. >13 Going on 30< was directed by Gary Winick\n",
      "14. >Don't Look Up< was directed by Adam McKay\n"
     ]
    }
   ],
   "source": [
    "reset_queries()\n",
    "\n",
    "queryset = Movie.objects.select_related(\"director\").all()\n",
    "\n",
    "for i, movie in enumerate(queryset, start=1):\n",
    "    print(f\"{i}. >{movie.title}< was directed by {movie.director.name}\")"
   ]
  },
  {
   "cell_type": "markdown",
   "id": "900ccecb",
   "metadata": {},
   "source": [
    "O que está sendo feito ao usar o select_related é que, no SQL usado, o SELECT vai conter os campos do model do queryset e os campos daquele campo que você vai acessar. Como pode ser visto aqui:"
   ]
  },
  {
   "cell_type": "code",
   "execution_count": 15,
   "id": "0642fb56",
   "metadata": {
    "scrolled": false
   },
   "outputs": [
    {
     "data": {
      "text/plain": [
       "[{'sql': 'SELECT \"cinema_movie\".\"id\", \"cinema_movie\".\"title\", \"cinema_movie\".\"synopsis\", \"cinema_movie\".\"genre\", \"cinema_movie\".\"release_date\", \"cinema_movie\".\"director_id\", \"cinema_movie\".\"is_available_on_netflix\", \"cinema_movie\".\"imdb_rate\", \"cinema_person\".\"id\", \"cinema_person\".\"name\", \"cinema_person\".\"birth_date\", \"cinema_person\".\"death_date\" FROM \"cinema_movie\" LEFT OUTER JOIN \"cinema_person\" ON (\"cinema_movie\".\"director_id\" = \"cinema_person\".\"id\")',\n",
       "  'time': '0.002'}]"
      ]
     },
     "execution_count": 15,
     "metadata": {},
     "output_type": "execute_result"
    }
   ],
   "source": [
    "connection.queries"
   ]
  },
  {
   "cell_type": "code",
   "execution_count": 5,
   "id": "c8456def",
   "metadata": {
    "scrolled": false
   },
   "outputs": [
    {
     "name": "stdout",
     "output_type": "stream",
     "text": [
      "Deep Water was directed by Adrian Lyne\n"
     ]
    },
    {
     "data": {
      "text/plain": [
       "[{'sql': 'SELECT \"cinema_movie\".\"id\", \"cinema_movie\".\"title\", \"cinema_movie\".\"director_id\", \"cinema_person\".\"id\", \"cinema_person\".\"name\", \"cinema_person\".\"birth_date\", \"cinema_person\".\"death_date\" FROM \"cinema_movie\" LEFT OUTER JOIN \"cinema_person\" ON (\"cinema_movie\".\"director_id\" = \"cinema_person\".\"id\")',\n",
       "  'time': '0.001'}]"
      ]
     },
     "execution_count": 5,
     "metadata": {},
     "output_type": "execute_result"
    }
   ],
   "source": [
    "reset_queries()\n",
    "\n",
    "queryset = Movie.objects.select_related(\"director\").only(\"title\", \"director\").all()\n",
    "\n",
    "for movie in queryset:\n",
    "    print(f\"{movie.title} was directed by {movie.director.name}\")\n",
    "\n",
    "connection.queries"
   ]
  },
  {
   "cell_type": "markdown",
   "id": "e7ffcedc",
   "metadata": {},
   "source": [
    "Se você precisar \"limpar\" a lista dos campos relacionados que foram adicionados por chamadas do select_related, basta usar `select_related(None)`."
   ]
  },
  {
   "cell_type": "markdown",
   "id": "710a60c5",
   "metadata": {},
   "source": [
    "## prefetch_related\n",
    "\n",
    "Works for FK relationships, but also for M2M relation ships. However, the optimization is made by Python and not the SQL."
   ]
  },
  {
   "cell_type": "code",
   "execution_count": 6,
   "id": "8dbc54e3",
   "metadata": {
    "scrolled": true
   },
   "outputs": [
    {
     "name": "stdout",
     "output_type": "stream",
     "text": [
      "Deep Water cast: \n",
      "\n",
      "- Ana de Armas\n",
      "\n",
      "- Ben Affleck\n",
      "\n",
      "- Jacob Elordi\n",
      "\n",
      "- Finn Wittrock\n",
      "\n",
      "- Rachel Blanchard\n",
      "\n"
     ]
    },
    {
     "data": {
      "text/plain": [
       "[{'sql': 'SELECT \"cinema_movie\".\"id\", \"cinema_movie\".\"title\", \"cinema_movie\".\"sinopsis\", \"cinema_movie\".\"genre\", \"cinema_movie\".\"release_date\", \"cinema_movie\".\"available_on_netflix\", \"cinema_movie\".\"imdb_rate\", \"cinema_movie\".\"director_id\" FROM \"cinema_movie\"',\n",
       "  'time': '0.000'},\n",
       " {'sql': 'SELECT \"cinema_person\".\"id\", \"cinema_person\".\"name\", \"cinema_person\".\"birth_date\", \"cinema_person\".\"death_date\" FROM \"cinema_person\" INNER JOIN \"cinema_movie_cast\" ON (\"cinema_person\".\"id\" = \"cinema_movie_cast\".\"person_id\") WHERE \"cinema_movie_cast\".\"movie_id\" = 3',\n",
       "  'time': '0.001'}]"
      ]
     },
     "execution_count": 6,
     "metadata": {},
     "output_type": "execute_result"
    }
   ],
   "source": [
    "reset_queries()\n",
    "\n",
    "queryset = Movie.objects.all()\n",
    "\n",
    "for movie in queryset:\n",
    "    print(f\"{movie.title} cast: \\n\")\n",
    "    \n",
    "    for person in movie.cast.all():\n",
    "        print(f\"- {person.name}\\n\")\n",
    "        \n",
    "connection.queries"
   ]
  },
  {
   "cell_type": "code",
   "execution_count": 7,
   "id": "889714dd",
   "metadata": {
    "scrolled": true
   },
   "outputs": [
    {
     "name": "stdout",
     "output_type": "stream",
     "text": [
      "Deep Water cast: \n",
      "\n",
      "- Ana de Armas\n",
      "\n",
      "- Ben Affleck\n",
      "\n",
      "- Jacob Elordi\n",
      "\n",
      "- Finn Wittrock\n",
      "\n",
      "- Rachel Blanchard\n",
      "\n"
     ]
    },
    {
     "data": {
      "text/plain": [
       "[{'sql': 'SELECT \"cinema_movie\".\"id\", \"cinema_movie\".\"title\", \"cinema_movie\".\"sinopsis\", \"cinema_movie\".\"genre\", \"cinema_movie\".\"release_date\", \"cinema_movie\".\"available_on_netflix\", \"cinema_movie\".\"imdb_rate\", \"cinema_movie\".\"director_id\" FROM \"cinema_movie\"',\n",
       "  'time': '0.000'},\n",
       " {'sql': 'SELECT (\"cinema_movie_cast\".\"movie_id\") AS \"_prefetch_related_val_movie_id\", \"cinema_person\".\"id\", \"cinema_person\".\"name\", \"cinema_person\".\"birth_date\", \"cinema_person\".\"death_date\" FROM \"cinema_person\" INNER JOIN \"cinema_movie_cast\" ON (\"cinema_person\".\"id\" = \"cinema_movie_cast\".\"person_id\") WHERE \"cinema_movie_cast\".\"movie_id\" IN (3)',\n",
       "  'time': '0.001'}]"
      ]
     },
     "execution_count": 7,
     "metadata": {},
     "output_type": "execute_result"
    }
   ],
   "source": [
    "reset_queries()\n",
    "\n",
    "queryset = Movie.objects.prefetch_related(\"cast\").all()\n",
    "\n",
    "for movie in queryset:\n",
    "    print(f\"{movie.title} cast: \\n\")\n",
    "    \n",
    "    for person in movie.cast.all():\n",
    "        print(f\"- {person.name}\\n\")\n",
    "        \n",
    "connection.queries"
   ]
  },
  {
   "cell_type": "code",
   "execution_count": 6,
   "id": "95e47303",
   "metadata": {},
   "outputs": [
    {
     "data": {
      "text/plain": [
       "<QuerySet [<Movie: Deep Water>, <Movie: Batman>, <Movie: Batman Returns>, <Movie: Batman Begins>, <Movie: The Dark Knight>, <Movie: The Dark Knight Rises>, <Movie: Inglourious Basterds>, <Movie: Once Upon a Time in... Hollywood>, <Movie: Knives Out>, <Movie: Shutter Island>, <Movie: Hide and Seek>, <Movie: 13 Going on 30>, <Movie: Don't Look Up>, <Movie: Big Fish>]>"
      ]
     },
     "execution_count": 6,
     "metadata": {},
     "output_type": "execute_result"
    }
   ],
   "source": [
    "reset_queries()\n",
    "\n",
    "Movie.objects.prefetch_related(\"cast\").all()\n",
    "\n",
    "# connection.queries"
   ]
  },
  {
   "cell_type": "code",
   "execution_count": 7,
   "id": "8664f147",
   "metadata": {
    "scrolled": true
   },
   "outputs": [
    {
     "data": {
      "text/plain": [
       "[{'sql': 'SELECT \"cinema_movie\".\"id\", \"cinema_movie\".\"title\", \"cinema_movie\".\"synopsis\", \"cinema_movie\".\"genre\", \"cinema_movie\".\"release_date\", \"cinema_movie\".\"is_available_on_netflix\", \"cinema_movie\".\"imdb_rate\", \"cinema_movie\".\"director_id\", \"cinema_movie\".\"budget\" FROM \"cinema_movie\" LIMIT 21',\n",
       "  'time': '0.000'},\n",
       " {'sql': 'SELECT (\"cinema_movie_cast\".\"movie_id\") AS \"_prefetch_related_val_movie_id\", \"cinema_person\".\"id\", \"cinema_person\".\"name\", \"cinema_person\".\"birth_date\", \"cinema_person\".\"death_date\" FROM \"cinema_person\" INNER JOIN \"cinema_movie_cast\" ON (\"cinema_person\".\"id\" = \"cinema_movie_cast\".\"person_id\") WHERE \"cinema_movie_cast\".\"movie_id\" IN (80, 81, 82, 83, 84, 85, 86, 87, 88, 89, 90, 91, 92, 93)',\n",
       "  'time': '0.001'}]"
      ]
     },
     "execution_count": 7,
     "metadata": {},
     "output_type": "execute_result"
    }
   ],
   "source": [
    "connection.queries"
   ]
  },
  {
   "cell_type": "code",
   "execution_count": 10,
   "id": "b72a322a",
   "metadata": {},
   "outputs": [
    {
     "data": {
      "text/plain": [
       "<QuerySet [<Movie: Batman Begins>, <Movie: The Dark Knight>, <Movie: The Dark Knight Rises>]>"
      ]
     },
     "execution_count": 10,
     "metadata": {},
     "output_type": "execute_result"
    }
   ],
   "source": [
    "reset_queries()\n",
    "\n",
    "Movie.objects.filter(cast__name__istartswith=\"g\")"
   ]
  },
  {
   "cell_type": "code",
   "execution_count": 11,
   "id": "8eed3889",
   "metadata": {},
   "outputs": [
    {
     "data": {
      "text/plain": [
       "[{'sql': 'SELECT \"cinema_movie\".\"id\", \"cinema_movie\".\"title\", \"cinema_movie\".\"synopsis\", \"cinema_movie\".\"genre\", \"cinema_movie\".\"release_date\", \"cinema_movie\".\"is_available_on_netflix\", \"cinema_movie\".\"imdb_rate\", \"cinema_movie\".\"director_id\", \"cinema_movie\".\"budget\" FROM \"cinema_movie\" INNER JOIN \"cinema_movie_cast\" ON (\"cinema_movie\".\"id\" = \"cinema_movie_cast\".\"movie_id\") INNER JOIN \"cinema_person\" ON (\"cinema_movie_cast\".\"person_id\" = \"cinema_person\".\"id\") WHERE UPPER(\"cinema_person\".\"name\"::text) LIKE UPPER(\\'g%\\') LIMIT 21',\n",
       "  'time': '0.001'}]"
      ]
     },
     "execution_count": 11,
     "metadata": {},
     "output_type": "execute_result"
    }
   ],
   "source": [
    "connection.queries"
   ]
  },
  {
   "cell_type": "markdown",
   "id": "960aae78",
   "metadata": {},
   "source": [
    "Saber usar select_related e prefetch_related é algo muito importante para as pessoas que usam Django, porque é fácil cair no problema de N+1 ou problemas similares e ao olhar pro código você pode não sabe que ali tem um problema de performance."
   ]
  },
  {
   "cell_type": "markdown",
   "id": "460c3173",
   "metadata": {},
   "source": [
    "## .count() e .exists()\n",
    "\n",
    "São duas coisas diferentes que as pessoas às vezes \"confundem\" e que podem acabar prejudicando a performance da sua aplicação se você não se ligar.\n",
    "\n",
    "Acontece às vezes da gente usar `queryset.count() > 0` em vez de `queryset.exists()` e não perceber que isso pode ter um impacto negativo.\n",
    "Acontece que o count vai contar todas as linhas daquela tabela, enquanto o exists apenas checa se existe pelo menos uma linha naquela tabela. Se você tá lidando com um queryset que tem muitos objetos, o count se torna um problema.\n",
    "\n",
    "`.count()` a gente deve usar apenas se a gente quiser saber o número de objetos num queryset.\n",
    "`.exists()` a gente deve usar para saber se aquele queryset não é vazio.\n",
    "\n",
    "(Fazer comparação de tempo entre um e outro)"
   ]
  },
  {
   "cell_type": "code",
   "execution_count": 23,
   "id": "e58a19f9",
   "metadata": {},
   "outputs": [
    {
     "data": {
      "text/plain": [
       "[{'sql': 'SELECT COUNT(*) AS \"__count\" FROM \"cinema_movie\" WHERE \"cinema_movie\".\"is_available_on_netflix\"',\n",
       "  'time': '0.001'}]"
      ]
     },
     "execution_count": 23,
     "metadata": {},
     "output_type": "execute_result"
    }
   ],
   "source": [
    "reset_queries()\n",
    "\n",
    "Movie.objects.filter(is_available_on_netflix=True).count()\n",
    "\n",
    "connection.queries"
   ]
  },
  {
   "cell_type": "code",
   "execution_count": 22,
   "id": "4722fa13",
   "metadata": {},
   "outputs": [
    {
     "data": {
      "text/plain": [
       "[{'sql': 'SELECT (1) AS \"a\" FROM \"cinema_movie\" WHERE \"cinema_movie\".\"is_available_on_netflix\" LIMIT 1',\n",
       "  'time': '0.000'}]"
      ]
     },
     "execution_count": 22,
     "metadata": {},
     "output_type": "execute_result"
    }
   ],
   "source": [
    "reset_queries()\n",
    "\n",
    "Movie.objects.filter(is_available_on_netflix=True).exists()\n",
    "\n",
    "connection.queries"
   ]
  },
  {
   "cell_type": "markdown",
   "id": "b17df30d",
   "metadata": {},
   "source": [
    "## Retornar apenas o necessário!\n",
    "\n",
    "`only`, `defer`, `values` e `values_list` vão te ajudar com isso."
   ]
  },
  {
   "cell_type": "code",
   "execution_count": 13,
   "id": "9064ef30",
   "metadata": {
    "scrolled": true
   },
   "outputs": [
    {
     "name": "stdout",
     "output_type": "stream",
     "text": [
      "\u001b[34mSELECT\u001b[39;49;00m\u001b[37m \u001b[39;49;00m\u001b[33m\"\u001b[39;49;00m\u001b[33mcinema_person\u001b[39;49;00m\u001b[33m\"\u001b[39;49;00m\u001b[34m.\u001b[39;49;00m\u001b[33m\"\u001b[39;49;00m\u001b[33mid\u001b[39;49;00m\u001b[33m\"\u001b[39;49;00m,\u001b[37m\u001b[39;49;00m\n",
      "\u001b[37m       \u001b[39;49;00m\u001b[33m\"\u001b[39;49;00m\u001b[33mcinema_person\u001b[39;49;00m\u001b[33m\"\u001b[39;49;00m\u001b[34m.\u001b[39;49;00m\u001b[33m\"\u001b[39;49;00m\u001b[33mname\u001b[39;49;00m\u001b[33m\"\u001b[39;49;00m,\u001b[37m\u001b[39;49;00m\n",
      "\u001b[37m       \u001b[39;49;00m\u001b[33m\"\u001b[39;49;00m\u001b[33mcinema_person\u001b[39;49;00m\u001b[33m\"\u001b[39;49;00m\u001b[34m.\u001b[39;49;00m\u001b[33m\"\u001b[39;49;00m\u001b[33mbirth_date\u001b[39;49;00m\u001b[33m\"\u001b[39;49;00m,\u001b[37m\u001b[39;49;00m\n",
      "\u001b[37m       \u001b[39;49;00m\u001b[33m\"\u001b[39;49;00m\u001b[33mcinema_person\u001b[39;49;00m\u001b[33m\"\u001b[39;49;00m\u001b[34m.\u001b[39;49;00m\u001b[33m\"\u001b[39;49;00m\u001b[33mdeath_date\u001b[39;49;00m\u001b[33m\"\u001b[39;49;00m\u001b[37m\u001b[39;49;00m\n",
      "\u001b[34mFROM\u001b[39;49;00m\u001b[37m \u001b[39;49;00m\u001b[33m\"\u001b[39;49;00m\u001b[33mcinema_person\u001b[39;49;00m\u001b[33m\"\u001b[39;49;00m\u001b[37m\u001b[39;49;00m\n",
      "\n"
     ]
    }
   ],
   "source": [
    "queryset = Person.objects.all()\n",
    "\n",
    "print_sql(queryset)"
   ]
  },
  {
   "cell_type": "code",
   "execution_count": 5,
   "id": "7a32737b",
   "metadata": {
    "scrolled": true
   },
   "outputs": [
    {
     "name": "stdout",
     "output_type": "stream",
     "text": [
      "\u001b[34mSELECT\u001b[39;49;00m\u001b[37m \u001b[39;49;00m\u001b[33m\"\u001b[39;49;00m\u001b[33mcinema_person\u001b[39;49;00m\u001b[33m\"\u001b[39;49;00m\u001b[34m.\u001b[39;49;00m\u001b[33m\"\u001b[39;49;00m\u001b[33mid\u001b[39;49;00m\u001b[33m\"\u001b[39;49;00m,\u001b[37m\u001b[39;49;00m\n",
      "\u001b[37m       \u001b[39;49;00m\u001b[33m\"\u001b[39;49;00m\u001b[33mcinema_person\u001b[39;49;00m\u001b[33m\"\u001b[39;49;00m\u001b[34m.\u001b[39;49;00m\u001b[33m\"\u001b[39;49;00m\u001b[33mname\u001b[39;49;00m\u001b[33m\"\u001b[39;49;00m\u001b[37m\u001b[39;49;00m\n",
      "\u001b[34mFROM\u001b[39;49;00m\u001b[37m \u001b[39;49;00m\u001b[33m\"\u001b[39;49;00m\u001b[33mcinema_person\u001b[39;49;00m\u001b[33m\"\u001b[39;49;00m\u001b[37m\u001b[39;49;00m\n",
      "\n"
     ]
    }
   ],
   "source": [
    "print_sql(queryset.only(\"name\"))"
   ]
  },
  {
   "cell_type": "code",
   "execution_count": 6,
   "id": "85b0144d",
   "metadata": {
    "scrolled": true
   },
   "outputs": [
    {
     "name": "stdout",
     "output_type": "stream",
     "text": [
      "\u001b[34mSELECT\u001b[39;49;00m\u001b[37m \u001b[39;49;00m\u001b[33m\"\u001b[39;49;00m\u001b[33mcinema_person\u001b[39;49;00m\u001b[33m\"\u001b[39;49;00m\u001b[34m.\u001b[39;49;00m\u001b[33m\"\u001b[39;49;00m\u001b[33mid\u001b[39;49;00m\u001b[33m\"\u001b[39;49;00m,\u001b[37m\u001b[39;49;00m\n",
      "\u001b[37m       \u001b[39;49;00m\u001b[33m\"\u001b[39;49;00m\u001b[33mcinema_person\u001b[39;49;00m\u001b[33m\"\u001b[39;49;00m\u001b[34m.\u001b[39;49;00m\u001b[33m\"\u001b[39;49;00m\u001b[33mbirth_date\u001b[39;49;00m\u001b[33m\"\u001b[39;49;00m,\u001b[37m\u001b[39;49;00m\n",
      "\u001b[37m       \u001b[39;49;00m\u001b[33m\"\u001b[39;49;00m\u001b[33mcinema_person\u001b[39;49;00m\u001b[33m\"\u001b[39;49;00m\u001b[34m.\u001b[39;49;00m\u001b[33m\"\u001b[39;49;00m\u001b[33mdeath_date\u001b[39;49;00m\u001b[33m\"\u001b[39;49;00m\u001b[37m\u001b[39;49;00m\n",
      "\u001b[34mFROM\u001b[39;49;00m\u001b[37m \u001b[39;49;00m\u001b[33m\"\u001b[39;49;00m\u001b[33mcinema_person\u001b[39;49;00m\u001b[33m\"\u001b[39;49;00m\u001b[37m\u001b[39;49;00m\n",
      "\n"
     ]
    }
   ],
   "source": [
    "print_sql(queryset.defer(\"name\"))"
   ]
  },
  {
   "cell_type": "code",
   "execution_count": 14,
   "id": "d863baaa",
   "metadata": {
    "scrolled": true
   },
   "outputs": [
    {
     "name": "stdout",
     "output_type": "stream",
     "text": [
      "\u001b[34mSELECT\u001b[39;49;00m\u001b[37m \u001b[39;49;00m\u001b[33m\"\u001b[39;49;00m\u001b[33mcinema_person\u001b[39;49;00m\u001b[33m\"\u001b[39;49;00m\u001b[34m.\u001b[39;49;00m\u001b[33m\"\u001b[39;49;00m\u001b[33mname\u001b[39;49;00m\u001b[33m\"\u001b[39;49;00m\u001b[37m\u001b[39;49;00m\n",
      "\u001b[34mFROM\u001b[39;49;00m\u001b[37m \u001b[39;49;00m\u001b[33m\"\u001b[39;49;00m\u001b[33mcinema_person\u001b[39;49;00m\u001b[33m\"\u001b[39;49;00m\u001b[37m\u001b[39;49;00m\n",
      "\n"
     ]
    },
    {
     "data": {
      "text/plain": [
       "<QuerySet [('Ana de Armas',), ('Ben Affleck',), ('Jacob Elordi',), ('Finn Wittrock',), ('Rachel Blanchard',), ('Michael Keaton',), ('Michelle Pfeiffer',), ('Danny DeVito',), ('Christopher Walken',), ('Michael Gough',), ('Pat Hingle',), ('Jack Nicholson',), ('Kim Basinger',), ('Christian Bale',), ('Cillian Murphy',), ('Michael Caine',), ('Katie Holmes',), ('Liam Neeson',), ('Gary Oldman',), ('Morgan Freeman',), '...(remaining elements truncated)...']>"
      ]
     },
     "execution_count": 14,
     "metadata": {},
     "output_type": "execute_result"
    }
   ],
   "source": [
    "print_sql(queryset.values_list(\"name\"))\n",
    "queryset.values_list(\"name\")"
   ]
  },
  {
   "cell_type": "code",
   "execution_count": 15,
   "id": "a9b6ca63",
   "metadata": {
    "scrolled": true
   },
   "outputs": [
    {
     "name": "stdout",
     "output_type": "stream",
     "text": [
      "\u001b[34mSELECT\u001b[39;49;00m\u001b[37m \u001b[39;49;00m\u001b[33m\"\u001b[39;49;00m\u001b[33mcinema_person\u001b[39;49;00m\u001b[33m\"\u001b[39;49;00m\u001b[34m.\u001b[39;49;00m\u001b[33m\"\u001b[39;49;00m\u001b[33mname\u001b[39;49;00m\u001b[33m\"\u001b[39;49;00m\u001b[37m\u001b[39;49;00m\n",
      "\u001b[34mFROM\u001b[39;49;00m\u001b[37m \u001b[39;49;00m\u001b[33m\"\u001b[39;49;00m\u001b[33mcinema_person\u001b[39;49;00m\u001b[33m\"\u001b[39;49;00m\u001b[37m\u001b[39;49;00m\n",
      "\n"
     ]
    },
    {
     "data": {
      "text/plain": [
       "<QuerySet [{'name': 'Ana de Armas'}, {'name': 'Ben Affleck'}, {'name': 'Jacob Elordi'}, {'name': 'Finn Wittrock'}, {'name': 'Rachel Blanchard'}, {'name': 'Michael Keaton'}, {'name': 'Michelle Pfeiffer'}, {'name': 'Danny DeVito'}, {'name': 'Christopher Walken'}, {'name': 'Michael Gough'}, {'name': 'Pat Hingle'}, {'name': 'Jack Nicholson'}, {'name': 'Kim Basinger'}, {'name': 'Christian Bale'}, {'name': 'Cillian Murphy'}, {'name': 'Michael Caine'}, {'name': 'Katie Holmes'}, {'name': 'Liam Neeson'}, {'name': 'Gary Oldman'}, {'name': 'Morgan Freeman'}, '...(remaining elements truncated)...']>"
      ]
     },
     "execution_count": 15,
     "metadata": {},
     "output_type": "execute_result"
    }
   ],
   "source": [
    "print_sql(queryset.values(\"name\"))\n",
    "queryset.values(\"name\")"
   ]
  },
  {
   "cell_type": "markdown",
   "id": "9928ee5f",
   "metadata": {},
   "source": [
    "## Annotate\n",
    "\n",
    "Dá mais poder ao desenvolvedor."
   ]
  },
  {
   "cell_type": "markdown",
   "id": "d96e667e",
   "metadata": {},
   "source": [
    "### Count\n",
    "\n",
    "Exemplo: você quer uma lista ordenada a partir de uma contagem específica."
   ]
  },
  {
   "cell_type": "code",
   "execution_count": 16,
   "id": "3824fb69",
   "metadata": {
    "scrolled": false
   },
   "outputs": [
    {
     "name": "stdout",
     "output_type": "stream",
     "text": [
      "\u001b[34mSELECT\u001b[39;49;00m\u001b[37m \u001b[39;49;00m\u001b[33m\"\u001b[39;49;00m\u001b[33mcinema_person\u001b[39;49;00m\u001b[33m\"\u001b[39;49;00m\u001b[34m.\u001b[39;49;00m\u001b[33m\"\u001b[39;49;00m\u001b[33mid\u001b[39;49;00m\u001b[33m\"\u001b[39;49;00m,\u001b[37m\u001b[39;49;00m\n",
      "\u001b[37m       \u001b[39;49;00m\u001b[33m\"\u001b[39;49;00m\u001b[33mcinema_person\u001b[39;49;00m\u001b[33m\"\u001b[39;49;00m\u001b[34m.\u001b[39;49;00m\u001b[33m\"\u001b[39;49;00m\u001b[33mname\u001b[39;49;00m\u001b[33m\"\u001b[39;49;00m,\u001b[37m\u001b[39;49;00m\n",
      "\u001b[37m       \u001b[39;49;00m\u001b[33m\"\u001b[39;49;00m\u001b[33mcinema_person\u001b[39;49;00m\u001b[33m\"\u001b[39;49;00m\u001b[34m.\u001b[39;49;00m\u001b[33m\"\u001b[39;49;00m\u001b[33mbirth_date\u001b[39;49;00m\u001b[33m\"\u001b[39;49;00m,\u001b[37m\u001b[39;49;00m\n",
      "\u001b[37m       \u001b[39;49;00m\u001b[33m\"\u001b[39;49;00m\u001b[33mcinema_person\u001b[39;49;00m\u001b[33m\"\u001b[39;49;00m\u001b[34m.\u001b[39;49;00m\u001b[33m\"\u001b[39;49;00m\u001b[33mdeath_date\u001b[39;49;00m\u001b[33m\"\u001b[39;49;00m,\u001b[37m\u001b[39;49;00m\n",
      "\u001b[37m       \u001b[39;49;00mCOUNT(\u001b[33m\"\u001b[39;49;00m\u001b[33mcinema_personnomination\u001b[39;49;00m\u001b[33m\"\u001b[39;49;00m\u001b[34m.\u001b[39;49;00m\u001b[33m\"\u001b[39;49;00m\u001b[33mid\u001b[39;49;00m\u001b[33m\"\u001b[39;49;00m)\u001b[37m \u001b[39;49;00m\u001b[34mAS\u001b[39;49;00m\u001b[37m \u001b[39;49;00m\u001b[33m\"\u001b[39;49;00m\u001b[33mtotal_awards_won\u001b[39;49;00m\u001b[33m\"\u001b[39;49;00m\u001b[37m\u001b[39;49;00m\n",
      "\u001b[34mFROM\u001b[39;49;00m\u001b[37m \u001b[39;49;00m\u001b[33m\"\u001b[39;49;00m\u001b[33mcinema_person\u001b[39;49;00m\u001b[33m\"\u001b[39;49;00m\u001b[37m\u001b[39;49;00m\n",
      "\u001b[34mLEFT\u001b[39;49;00m\u001b[37m \u001b[39;49;00m\u001b[34mOUTER\u001b[39;49;00m\u001b[37m \u001b[39;49;00m\u001b[34mJOIN\u001b[39;49;00m\u001b[37m \u001b[39;49;00m\u001b[33m\"\u001b[39;49;00m\u001b[33mcinema_personnomination\u001b[39;49;00m\u001b[33m\"\u001b[39;49;00m\u001b[37m \u001b[39;49;00m\u001b[34mON\u001b[39;49;00m\u001b[37m \u001b[39;49;00m(\u001b[33m\"\u001b[39;49;00m\u001b[33mcinema_person\u001b[39;49;00m\u001b[33m\"\u001b[39;49;00m\u001b[34m.\u001b[39;49;00m\u001b[33m\"\u001b[39;49;00m\u001b[33mid\u001b[39;49;00m\u001b[33m\"\u001b[39;49;00m\u001b[37m \u001b[39;49;00m=\u001b[37m \u001b[39;49;00m\u001b[33m\"\u001b[39;49;00m\u001b[33mcinema_personnomination\u001b[39;49;00m\u001b[33m\"\u001b[39;49;00m\u001b[34m.\u001b[39;49;00m\u001b[33m\"\u001b[39;49;00m\u001b[33mperson_id\u001b[39;49;00m\u001b[33m\"\u001b[39;49;00m)\u001b[37m\u001b[39;49;00m\n",
      "\u001b[34mGROUP\u001b[39;49;00m\u001b[37m \u001b[39;49;00m\u001b[34mBY\u001b[39;49;00m\u001b[37m \u001b[39;49;00m\u001b[33m\"\u001b[39;49;00m\u001b[33mcinema_person\u001b[39;49;00m\u001b[33m\"\u001b[39;49;00m\u001b[34m.\u001b[39;49;00m\u001b[33m\"\u001b[39;49;00m\u001b[33mid\u001b[39;49;00m\u001b[33m\"\u001b[39;49;00m\u001b[37m\u001b[39;49;00m\n",
      "\u001b[34mORDER\u001b[39;49;00m\u001b[37m \u001b[39;49;00m\u001b[34mBY\u001b[39;49;00m\u001b[37m \u001b[39;49;00m\u001b[33m\"\u001b[39;49;00m\u001b[33mtotal_awards_won\u001b[39;49;00m\u001b[33m\"\u001b[39;49;00m\u001b[37m \u001b[39;49;00m\u001b[34mDESC\u001b[39;49;00m\u001b[37m\u001b[39;49;00m\n",
      "\n"
     ]
    }
   ],
   "source": [
    "from django.db.models import Count\n",
    "\n",
    "queryset = Person.objects.annotate(\n",
    "    total_awards_won=Count(\"nominations\")\n",
    ").order_by(\"-total_awards_won\")\n",
    "\n",
    "print_sql(queryset)"
   ]
  },
  {
   "cell_type": "markdown",
   "id": "a73a4dd4",
   "metadata": {},
   "source": [
    "### Count + filter"
   ]
  },
  {
   "cell_type": "code",
   "execution_count": 17,
   "id": "13d7fe4d",
   "metadata": {},
   "outputs": [
    {
     "name": "stdout",
     "output_type": "stream",
     "text": [
      "\u001b[34mSELECT\u001b[39;49;00m\u001b[37m \u001b[39;49;00m\u001b[33m\"\u001b[39;49;00m\u001b[33mcinema_person\u001b[39;49;00m\u001b[33m\"\u001b[39;49;00m\u001b[34m.\u001b[39;49;00m\u001b[33m\"\u001b[39;49;00m\u001b[33mid\u001b[39;49;00m\u001b[33m\"\u001b[39;49;00m,\u001b[37m\u001b[39;49;00m\n",
      "\u001b[37m       \u001b[39;49;00m\u001b[33m\"\u001b[39;49;00m\u001b[33mcinema_person\u001b[39;49;00m\u001b[33m\"\u001b[39;49;00m\u001b[34m.\u001b[39;49;00m\u001b[33m\"\u001b[39;49;00m\u001b[33mname\u001b[39;49;00m\u001b[33m\"\u001b[39;49;00m,\u001b[37m\u001b[39;49;00m\n",
      "\u001b[37m       \u001b[39;49;00m\u001b[33m\"\u001b[39;49;00m\u001b[33mcinema_person\u001b[39;49;00m\u001b[33m\"\u001b[39;49;00m\u001b[34m.\u001b[39;49;00m\u001b[33m\"\u001b[39;49;00m\u001b[33mbirth_date\u001b[39;49;00m\u001b[33m\"\u001b[39;49;00m,\u001b[37m\u001b[39;49;00m\n",
      "\u001b[37m       \u001b[39;49;00m\u001b[33m\"\u001b[39;49;00m\u001b[33mcinema_person\u001b[39;49;00m\u001b[33m\"\u001b[39;49;00m\u001b[34m.\u001b[39;49;00m\u001b[33m\"\u001b[39;49;00m\u001b[33mdeath_date\u001b[39;49;00m\u001b[33m\"\u001b[39;49;00m,\u001b[37m\u001b[39;49;00m\n",
      "\u001b[37m       \u001b[39;49;00mCOUNT(\u001b[33m\"\u001b[39;49;00m\u001b[33mcinema_personnomination\u001b[39;49;00m\u001b[33m\"\u001b[39;49;00m\u001b[34m.\u001b[39;49;00m\u001b[33m\"\u001b[39;49;00m\u001b[33mid\u001b[39;49;00m\u001b[33m\"\u001b[39;49;00m)\u001b[37m \u001b[39;49;00m\u001b[34mFILTER\u001b[39;49;00m\u001b[37m \u001b[39;49;00m(\u001b[37m\u001b[39;49;00m\n",
      "\u001b[37m                                                     \u001b[39;49;00m\u001b[34mWHERE\u001b[39;49;00m\u001b[37m \u001b[39;49;00m\u001b[33m\"\u001b[39;49;00m\u001b[33mcinema_personnomination\u001b[39;49;00m\u001b[33m\"\u001b[39;49;00m\u001b[34m.\u001b[39;49;00m\u001b[33m\"\u001b[39;49;00m\u001b[33mis_winner\u001b[39;49;00m\u001b[33m\"\u001b[39;49;00m)\u001b[37m \u001b[39;49;00m\u001b[34mAS\u001b[39;49;00m\u001b[37m \u001b[39;49;00m\u001b[33m\"\u001b[39;49;00m\u001b[33mtotal_awards_won\u001b[39;49;00m\u001b[33m\"\u001b[39;49;00m\u001b[37m\u001b[39;49;00m\n",
      "\u001b[34mFROM\u001b[39;49;00m\u001b[37m \u001b[39;49;00m\u001b[33m\"\u001b[39;49;00m\u001b[33mcinema_person\u001b[39;49;00m\u001b[33m\"\u001b[39;49;00m\u001b[37m\u001b[39;49;00m\n",
      "\u001b[34mLEFT\u001b[39;49;00m\u001b[37m \u001b[39;49;00m\u001b[34mOUTER\u001b[39;49;00m\u001b[37m \u001b[39;49;00m\u001b[34mJOIN\u001b[39;49;00m\u001b[37m \u001b[39;49;00m\u001b[33m\"\u001b[39;49;00m\u001b[33mcinema_personnomination\u001b[39;49;00m\u001b[33m\"\u001b[39;49;00m\u001b[37m \u001b[39;49;00m\u001b[34mON\u001b[39;49;00m\u001b[37m \u001b[39;49;00m(\u001b[33m\"\u001b[39;49;00m\u001b[33mcinema_person\u001b[39;49;00m\u001b[33m\"\u001b[39;49;00m\u001b[34m.\u001b[39;49;00m\u001b[33m\"\u001b[39;49;00m\u001b[33mid\u001b[39;49;00m\u001b[33m\"\u001b[39;49;00m\u001b[37m \u001b[39;49;00m=\u001b[37m \u001b[39;49;00m\u001b[33m\"\u001b[39;49;00m\u001b[33mcinema_personnomination\u001b[39;49;00m\u001b[33m\"\u001b[39;49;00m\u001b[34m.\u001b[39;49;00m\u001b[33m\"\u001b[39;49;00m\u001b[33mperson_id\u001b[39;49;00m\u001b[33m\"\u001b[39;49;00m)\u001b[37m\u001b[39;49;00m\n",
      "\u001b[34mGROUP\u001b[39;49;00m\u001b[37m \u001b[39;49;00m\u001b[34mBY\u001b[39;49;00m\u001b[37m \u001b[39;49;00m\u001b[33m\"\u001b[39;49;00m\u001b[33mcinema_person\u001b[39;49;00m\u001b[33m\"\u001b[39;49;00m\u001b[34m.\u001b[39;49;00m\u001b[33m\"\u001b[39;49;00m\u001b[33mid\u001b[39;49;00m\u001b[33m\"\u001b[39;49;00m\u001b[37m\u001b[39;49;00m\n",
      "\u001b[34mORDER\u001b[39;49;00m\u001b[37m \u001b[39;49;00m\u001b[34mBY\u001b[39;49;00m\u001b[37m \u001b[39;49;00m\u001b[33m\"\u001b[39;49;00m\u001b[33mtotal_awards_won\u001b[39;49;00m\u001b[33m\"\u001b[39;49;00m\u001b[37m \u001b[39;49;00m\u001b[34mDESC\u001b[39;49;00m\u001b[37m\u001b[39;49;00m\n",
      "\n"
     ]
    },
    {
     "data": {
      "text/plain": [
       "[<Person: Heath Ledger>,\n",
       " <Person: Brad Pitt>,\n",
       " <Person: Christoph Waltz>,\n",
       " <Person: Dakota Fanning>,\n",
       " <Person: Adam McKay>,\n",
       " <Person: Jennifer Garner>,\n",
       " <Person: Michael Keaton>,\n",
       " <Person: Mélanie Laurent>,\n",
       " <Person: Judy Greer>,\n",
       " <Person: Ariana Grande>,\n",
       " <Person: Michael Gough>,\n",
       " <Person: Daniel Craig>,\n",
       " <Person: Jennifer Lawrence>,\n",
       " <Person: Albert Finney>,\n",
       " <Person: Austin Butler>,\n",
       " <Person: Chris Evans>,\n",
       " <Person: Mark Ruffalo>,\n",
       " <Person: Margaret Qualley>,\n",
       " <Person: Marion Cotillard>,\n",
       " <Person: Tom Hardy>,\n",
       " <Person: Gary Winick>,\n",
       " <Person: Timothée Chalamet>,\n",
       " <Person: Christa B. Allen>,\n",
       " <Person: Patricia Clarkson>,\n",
       " <Person: Matthew McGrory>,\n",
       " <Person: Aaron Eckhart>,\n",
       " <Person: Christopher Walken>,\n",
       " <Person: Cate Blanchett>,\n",
       " <Person: Eli Roth>,\n",
       " <Person: Leonardo Dicaprio>,\n",
       " <Person: Jack Nicholson>,\n",
       " <Person: Robert De Niro>,\n",
       " <Person: Christopher Plummer>,\n",
       " <Person: Ewan McGregor>,\n",
       " <Person: Morgan Freeman>,\n",
       " <Person: Billy Crudup>,\n",
       " <Person: Rian Johnson>,\n",
       " <Person: Ben Kingsley>,\n",
       " <Person: Finn Wittrock>,\n",
       " <Person: John Polson>,\n",
       " <Person: Anne Hathaway>,\n",
       " <Person: Kim Basinger>,\n",
       " <Person: Rachel Blanchard>,\n",
       " <Person: Andy Serkis>,\n",
       " <Person: Martin Scorsese>,\n",
       " <Person: Diane Kruger>,\n",
       " <Person: Joseph Gordon-Levitt>,\n",
       " <Person: Daniel Brühl>,\n",
       " <Person: Ben Affleck>,\n",
       " <Person: Max von Sydow>,\n",
       " <Person: Quentin Tarantino>,\n",
       " <Person: Michelle Williams>,\n",
       " <Person: Christopher Nolan>,\n",
       " <Person: Jacob Elordi>,\n",
       " <Person: Margot Robbie>,\n",
       " <Person: Michelle Pfeiffer>,\n",
       " <Person: Michael Caine>,\n",
       " <Person: Cillian Murphy>,\n",
       " <Person: Tim Burton>,\n",
       " <Person: Helena Bonham Carter>,\n",
       " <Person: Danny DeVito>,\n",
       " <Person: Ana de Armas>,\n",
       " <Person: Katherine Langford>,\n",
       " <Person: Famke Janssen>,\n",
       " <Person: Meryl Streep>,\n",
       " <Person: Jamie Lee Curtis>,\n",
       " <Person: Gary Oldman>,\n",
       " <Person: Christian Bale>,\n",
       " <Person: Pat Hingle>,\n",
       " <Person: Liam Neeson>,\n",
       " <Person: Adrian Lyne>,\n",
       " <Person: Katie Holmes>]"
      ]
     },
     "execution_count": 17,
     "metadata": {},
     "output_type": "execute_result"
    }
   ],
   "source": [
    "from django.db.models import Count, Q\n",
    "\n",
    "queryset = Person.objects.annotate(\n",
    "    total_awards_won=Count(\"nominations\", filter=Q(nominations__is_winner=True))\n",
    ").order_by(\"-total_awards_won\")\n",
    "\n",
    "print_sql(queryset)\n",
    "\n",
    "list(queryset)"
   ]
  },
  {
   "cell_type": "markdown",
   "id": "4ba76760",
   "metadata": {},
   "source": [
    "### Subquery e OuterRef"
   ]
  },
  {
   "cell_type": "code",
   "execution_count": 15,
   "id": "e8819558",
   "metadata": {},
   "outputs": [
    {
     "name": "stdout",
     "output_type": "stream",
     "text": [
      "\u001b[34mSELECT\u001b[39;49;00m\u001b[37m \u001b[39;49;00m\u001b[33m\"\u001b[39;49;00m\u001b[33mcinema_award\u001b[39;49;00m\u001b[33m\"\u001b[39;49;00m\u001b[34m.\u001b[39;49;00m\u001b[33m\"\u001b[39;49;00m\u001b[33mid\u001b[39;49;00m\u001b[33m\"\u001b[39;49;00m,\u001b[37m\u001b[39;49;00m\n",
      "\u001b[37m       \u001b[39;49;00m\u001b[33m\"\u001b[39;49;00m\u001b[33mcinema_award\u001b[39;49;00m\u001b[33m\"\u001b[39;49;00m\u001b[34m.\u001b[39;49;00m\u001b[33m\"\u001b[39;49;00m\u001b[33mname\u001b[39;49;00m\u001b[33m\"\u001b[39;49;00m,\u001b[37m\u001b[39;49;00m\n",
      "\u001b[37m       \u001b[39;49;00m\u001b[33m\"\u001b[39;49;00m\u001b[33mcinema_award\u001b[39;49;00m\u001b[33m\"\u001b[39;49;00m\u001b[34m.\u001b[39;49;00m\u001b[33m\"\u001b[39;49;00m\u001b[33mpopular_name\u001b[39;49;00m\u001b[33m\"\u001b[39;49;00m,\u001b[37m\u001b[39;49;00m\n",
      "\u001b[37m       \u001b[39;49;00m\u001b[33m\"\u001b[39;49;00m\u001b[33mcinema_award\u001b[39;49;00m\u001b[33m\"\u001b[39;49;00m\u001b[34m.\u001b[39;49;00m\u001b[33m\"\u001b[39;49;00m\u001b[33mfirst_awarded_year\u001b[39;49;00m\u001b[33m\"\u001b[39;49;00m,\u001b[37m\u001b[39;49;00m\n",
      "\u001b[37m\u001b[39;49;00m\n",
      "\u001b[37m  \u001b[39;49;00m(\u001b[34mSELECT\u001b[39;49;00m\u001b[37m \u001b[39;49;00mU0\u001b[34m.\u001b[39;49;00m\u001b[33m\"\u001b[39;49;00m\u001b[33mtitle\u001b[39;49;00m\u001b[33m\"\u001b[39;49;00m\u001b[37m\u001b[39;49;00m\n",
      "\u001b[37m   \u001b[39;49;00m\u001b[34mFROM\u001b[39;49;00m\u001b[37m \u001b[39;49;00m\u001b[33m\"\u001b[39;49;00m\u001b[33mcinema_movie\u001b[39;49;00m\u001b[33m\"\u001b[39;49;00m\u001b[37m \u001b[39;49;00mU0\u001b[37m\u001b[39;49;00m\n",
      "\u001b[37m   \u001b[39;49;00m\u001b[34mLEFT\u001b[39;49;00m\u001b[37m \u001b[39;49;00m\u001b[34mOUTER\u001b[39;49;00m\u001b[37m \u001b[39;49;00m\u001b[34mJOIN\u001b[39;49;00m\u001b[37m \u001b[39;49;00m\u001b[33m\"\u001b[39;49;00m\u001b[33mcinema_movienomination\u001b[39;49;00m\u001b[33m\"\u001b[39;49;00m\u001b[37m \u001b[39;49;00mU1\u001b[37m \u001b[39;49;00m\u001b[34mON\u001b[39;49;00m\u001b[37m \u001b[39;49;00m(U0\u001b[34m.\u001b[39;49;00m\u001b[33m\"\u001b[39;49;00m\u001b[33mid\u001b[39;49;00m\u001b[33m\"\u001b[39;49;00m\u001b[37m \u001b[39;49;00m=\u001b[37m \u001b[39;49;00mU1\u001b[34m.\u001b[39;49;00m\u001b[33m\"\u001b[39;49;00m\u001b[33mmovie_id\u001b[39;49;00m\u001b[33m\"\u001b[39;49;00m)\u001b[37m\u001b[39;49;00m\n",
      "\u001b[37m   \u001b[39;49;00m\u001b[34mGROUP\u001b[39;49;00m\u001b[37m \u001b[39;49;00m\u001b[34mBY\u001b[39;49;00m\u001b[37m \u001b[39;49;00mU0\u001b[34m.\u001b[39;49;00m\u001b[33m\"\u001b[39;49;00m\u001b[33mid\u001b[39;49;00m\u001b[33m\"\u001b[39;49;00m\u001b[37m\u001b[39;49;00m\n",
      "\u001b[37m   \u001b[39;49;00m\u001b[34mORDER\u001b[39;49;00m\u001b[37m \u001b[39;49;00m\u001b[34mBY\u001b[39;49;00m\u001b[37m \u001b[39;49;00mCOUNT(U1\u001b[34m.\u001b[39;49;00m\u001b[33m\"\u001b[39;49;00m\u001b[33mid\u001b[39;49;00m\u001b[33m\"\u001b[39;49;00m)\u001b[37m \u001b[39;49;00m\u001b[34mFILTER\u001b[39;49;00m\u001b[37m \u001b[39;49;00m(\u001b[37m\u001b[39;49;00m\n",
      "\u001b[37m                                   \u001b[39;49;00m\u001b[34mWHERE\u001b[39;49;00m\u001b[37m \u001b[39;49;00m(U1\u001b[34m.\u001b[39;49;00m\u001b[33m\"\u001b[39;49;00m\u001b[33maward_id\u001b[39;49;00m\u001b[33m\"\u001b[39;49;00m\u001b[37m \u001b[39;49;00m=\u001b[37m \u001b[39;49;00m\u001b[33m\"\u001b[39;49;00m\u001b[33mcinema_award\u001b[39;49;00m\u001b[33m\"\u001b[39;49;00m\u001b[34m.\u001b[39;49;00m\u001b[33m\"\u001b[39;49;00m\u001b[33mid\u001b[39;49;00m\u001b[33m\"\u001b[39;49;00m))\u001b[37m \u001b[39;49;00m\u001b[34mDESC\u001b[39;49;00m\u001b[37m\u001b[39;49;00m\n",
      "\u001b[37m   \u001b[39;49;00m\u001b[34mLIMIT\u001b[39;49;00m\u001b[37m \u001b[39;49;00m\u001b[34m1\u001b[39;49;00m)\u001b[37m \u001b[39;49;00m\u001b[34mAS\u001b[39;49;00m\u001b[37m \u001b[39;49;00m\u001b[33m\"\u001b[39;49;00m\u001b[33mmost_nominated_movie_title\u001b[39;49;00m\u001b[33m\"\u001b[39;49;00m\u001b[37m\u001b[39;49;00m\n",
      "\u001b[34mFROM\u001b[39;49;00m\u001b[37m \u001b[39;49;00m\u001b[33m\"\u001b[39;49;00m\u001b[33mcinema_award\u001b[39;49;00m\u001b[33m\"\u001b[39;49;00m\u001b[37m\u001b[39;49;00m\n",
      "\n"
     ]
    },
    {
     "data": {
      "text/plain": [
       "<QuerySet [('Academy Awards', 'The Dark Knight'), ('British Academy Film Awards', 'The Dark Knight'), ('American Comedy Awards', '13 Going on 30'), ('MTV Movie + TV Awards', '13 Going on 30')]>"
      ]
     },
     "execution_count": 15,
     "metadata": {},
     "output_type": "execute_result"
    }
   ],
   "source": [
    "from django.db.models import OuterRef, Subquery, Q\n",
    "\n",
    "q = Award.objects.annotate(\n",
    "        most_nominated_movie_title=Subquery(\n",
    "            Movie.objects.annotate(\n",
    "                nominations_count=Count('nominations', filter=Q(nominations__award_id=OuterRef('id')))\n",
    "            ).order_by('-nominations_count').values(\"title\")[:1]\n",
    "        )\n",
    ")\n",
    "\n",
    "print_sql(q)\n",
    "\n",
    "q.values_list(\"name\", \"most_nominated_movie_title\")"
   ]
  }
 ],
 "metadata": {
  "kernelspec": {
   "display_name": "Django Shell-Plus",
   "language": "python",
   "name": "django_extensions"
  },
  "language_info": {
   "codemirror_mode": {
    "name": "ipython",
    "version": 3
   },
   "file_extension": ".py",
   "mimetype": "text/x-python",
   "name": "python",
   "nbconvert_exporter": "python",
   "pygments_lexer": "ipython3",
   "version": "3.8.13"
  }
 },
 "nbformat": 4,
 "nbformat_minor": 5
}
