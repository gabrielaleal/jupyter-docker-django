{
 "cells": [
  {
   "cell_type": "code",
   "execution_count": 1,
   "id": "669d95dd",
   "metadata": {},
   "outputs": [],
   "source": [
    "from django.db import connection\n",
    "\n",
    "from cinema.models import Person, Movie, MovieNomination, PersonNomination\n",
    "from cinema.choices import MOVIE_GENRES\n",
    "from cinema.utils import print_sql"
   ]
  },
  {
   "cell_type": "code",
   "execution_count": 2,
   "id": "b9c17bca",
   "metadata": {},
   "outputs": [],
   "source": [
    "from django.db import reset_queries\n",
    "\n",
    "from cinema.populate_database import populate_database\n",
    "\n",
    "\n",
    "populate_database()\n",
    "\n",
    "# Reset queries so they won't impact future output\n",
    "reset_queries()"
   ]
  },
  {
   "cell_type": "markdown",
   "id": "f2bec63f",
   "metadata": {},
   "source": [
    "## Filter\n",
    "\n",
    "https://books.agiliq.com/projects/django-orm-cookbook/en/latest/join.html"
   ]
  },
  {
   "cell_type": "code",
   "execution_count": 9,
   "id": "a2dc36e9",
   "metadata": {
    "scrolled": false
   },
   "outputs": [
    {
     "name": "stdout",
     "output_type": "stream",
     "text": [
      "\u001b[34mSELECT\u001b[39;49;00m\u001b[37m \u001b[39;49;00m\u001b[33m\"\u001b[39;49;00m\u001b[33mcinema_movie\u001b[39;49;00m\u001b[33m\"\u001b[39;49;00m\u001b[34m.\u001b[39;49;00m\u001b[33m\"\u001b[39;49;00m\u001b[33mid\u001b[39;49;00m\u001b[33m\"\u001b[39;49;00m,\u001b[37m\u001b[39;49;00m\n",
      "\u001b[37m       \u001b[39;49;00m\u001b[33m\"\u001b[39;49;00m\u001b[33mcinema_movie\u001b[39;49;00m\u001b[33m\"\u001b[39;49;00m\u001b[34m.\u001b[39;49;00m\u001b[33m\"\u001b[39;49;00m\u001b[33mtitle\u001b[39;49;00m\u001b[33m\"\u001b[39;49;00m,\u001b[37m\u001b[39;49;00m\n",
      "\u001b[37m       \u001b[39;49;00m\u001b[33m\"\u001b[39;49;00m\u001b[33mcinema_movie\u001b[39;49;00m\u001b[33m\"\u001b[39;49;00m\u001b[34m.\u001b[39;49;00m\u001b[33m\"\u001b[39;49;00m\u001b[33msinopsis\u001b[39;49;00m\u001b[33m\"\u001b[39;49;00m,\u001b[37m\u001b[39;49;00m\n",
      "\u001b[37m       \u001b[39;49;00m\u001b[33m\"\u001b[39;49;00m\u001b[33mcinema_movie\u001b[39;49;00m\u001b[33m\"\u001b[39;49;00m\u001b[34m.\u001b[39;49;00m\u001b[33m\"\u001b[39;49;00m\u001b[33mgenre\u001b[39;49;00m\u001b[33m\"\u001b[39;49;00m,\u001b[37m\u001b[39;49;00m\n",
      "\u001b[37m       \u001b[39;49;00m\u001b[33m\"\u001b[39;49;00m\u001b[33mcinema_movie\u001b[39;49;00m\u001b[33m\"\u001b[39;49;00m\u001b[34m.\u001b[39;49;00m\u001b[33m\"\u001b[39;49;00m\u001b[33mrelease_date\u001b[39;49;00m\u001b[33m\"\u001b[39;49;00m,\u001b[37m\u001b[39;49;00m\n",
      "\u001b[37m       \u001b[39;49;00m\u001b[33m\"\u001b[39;49;00m\u001b[33mcinema_movie\u001b[39;49;00m\u001b[33m\"\u001b[39;49;00m\u001b[34m.\u001b[39;49;00m\u001b[33m\"\u001b[39;49;00m\u001b[33mavailable_on_netflix\u001b[39;49;00m\u001b[33m\"\u001b[39;49;00m,\u001b[37m\u001b[39;49;00m\n",
      "\u001b[37m       \u001b[39;49;00m\u001b[33m\"\u001b[39;49;00m\u001b[33mcinema_movie\u001b[39;49;00m\u001b[33m\"\u001b[39;49;00m\u001b[34m.\u001b[39;49;00m\u001b[33m\"\u001b[39;49;00m\u001b[33mimdb_rate\u001b[39;49;00m\u001b[33m\"\u001b[39;49;00m,\u001b[37m\u001b[39;49;00m\n",
      "\u001b[37m       \u001b[39;49;00m\u001b[33m\"\u001b[39;49;00m\u001b[33mcinema_movie\u001b[39;49;00m\u001b[33m\"\u001b[39;49;00m\u001b[34m.\u001b[39;49;00m\u001b[33m\"\u001b[39;49;00m\u001b[33mdirector_id\u001b[39;49;00m\u001b[33m\"\u001b[39;49;00m\u001b[37m\u001b[39;49;00m\n",
      "\u001b[34mFROM\u001b[39;49;00m\u001b[37m \u001b[39;49;00m\u001b[33m\"\u001b[39;49;00m\u001b[33mcinema_movie\u001b[39;49;00m\u001b[33m\"\u001b[39;49;00m\u001b[37m\u001b[39;49;00m\n",
      "\u001b[34mWHERE\u001b[39;49;00m\u001b[37m \u001b[39;49;00m\u001b[33m\"\u001b[39;49;00m\u001b[33mcinema_movie\u001b[39;49;00m\u001b[33m\"\u001b[39;49;00m\u001b[34m.\u001b[39;49;00m\u001b[33m\"\u001b[39;49;00m\u001b[33mgenre\u001b[39;49;00m\u001b[33m\"\u001b[39;49;00m\u001b[37m \u001b[39;49;00m=\u001b[37m \u001b[39;49;00m\u001b[34maction\u001b[39;49;00m\u001b[37m\u001b[39;49;00m\n",
      "\n"
     ]
    }
   ],
   "source": [
    "queryset = Movie.objects.filter(genre=MOVIE_GENRES.action)\n",
    "# str(queryset.query)\n",
    "print_sql(queryset)"
   ]
  },
  {
   "cell_type": "markdown",
   "id": "8de4d4ab",
   "metadata": {},
   "source": [
    "## Exclude"
   ]
  },
  {
   "cell_type": "code",
   "execution_count": 6,
   "id": "0aeb6330",
   "metadata": {
    "scrolled": false
   },
   "outputs": [
    {
     "name": "stdout",
     "output_type": "stream",
     "text": [
      "\u001b[34mSELECT\u001b[39;49;00m\u001b[37m \u001b[39;49;00m\u001b[33m\"\u001b[39;49;00m\u001b[33mcinema_movie\u001b[39;49;00m\u001b[33m\"\u001b[39;49;00m\u001b[34m.\u001b[39;49;00m\u001b[33m\"\u001b[39;49;00m\u001b[33mid\u001b[39;49;00m\u001b[33m\"\u001b[39;49;00m,\u001b[37m\u001b[39;49;00m\n",
      "\u001b[37m       \u001b[39;49;00m\u001b[33m\"\u001b[39;49;00m\u001b[33mcinema_movie\u001b[39;49;00m\u001b[33m\"\u001b[39;49;00m\u001b[34m.\u001b[39;49;00m\u001b[33m\"\u001b[39;49;00m\u001b[33mtitle\u001b[39;49;00m\u001b[33m\"\u001b[39;49;00m,\u001b[37m\u001b[39;49;00m\n",
      "\u001b[37m       \u001b[39;49;00m\u001b[33m\"\u001b[39;49;00m\u001b[33mcinema_movie\u001b[39;49;00m\u001b[33m\"\u001b[39;49;00m\u001b[34m.\u001b[39;49;00m\u001b[33m\"\u001b[39;49;00m\u001b[33msinopsis\u001b[39;49;00m\u001b[33m\"\u001b[39;49;00m,\u001b[37m\u001b[39;49;00m\n",
      "\u001b[37m       \u001b[39;49;00m\u001b[33m\"\u001b[39;49;00m\u001b[33mcinema_movie\u001b[39;49;00m\u001b[33m\"\u001b[39;49;00m\u001b[34m.\u001b[39;49;00m\u001b[33m\"\u001b[39;49;00m\u001b[33mgenre\u001b[39;49;00m\u001b[33m\"\u001b[39;49;00m,\u001b[37m\u001b[39;49;00m\n",
      "\u001b[37m       \u001b[39;49;00m\u001b[33m\"\u001b[39;49;00m\u001b[33mcinema_movie\u001b[39;49;00m\u001b[33m\"\u001b[39;49;00m\u001b[34m.\u001b[39;49;00m\u001b[33m\"\u001b[39;49;00m\u001b[33mrelease_date\u001b[39;49;00m\u001b[33m\"\u001b[39;49;00m,\u001b[37m\u001b[39;49;00m\n",
      "\u001b[37m       \u001b[39;49;00m\u001b[33m\"\u001b[39;49;00m\u001b[33mcinema_movie\u001b[39;49;00m\u001b[33m\"\u001b[39;49;00m\u001b[34m.\u001b[39;49;00m\u001b[33m\"\u001b[39;49;00m\u001b[33mavailable_on_netflix\u001b[39;49;00m\u001b[33m\"\u001b[39;49;00m,\u001b[37m\u001b[39;49;00m\n",
      "\u001b[37m       \u001b[39;49;00m\u001b[33m\"\u001b[39;49;00m\u001b[33mcinema_movie\u001b[39;49;00m\u001b[33m\"\u001b[39;49;00m\u001b[34m.\u001b[39;49;00m\u001b[33m\"\u001b[39;49;00m\u001b[33mimdb_rate\u001b[39;49;00m\u001b[33m\"\u001b[39;49;00m,\u001b[37m\u001b[39;49;00m\n",
      "\u001b[37m       \u001b[39;49;00m\u001b[33m\"\u001b[39;49;00m\u001b[33mcinema_movie\u001b[39;49;00m\u001b[33m\"\u001b[39;49;00m\u001b[34m.\u001b[39;49;00m\u001b[33m\"\u001b[39;49;00m\u001b[33mdirector_id\u001b[39;49;00m\u001b[33m\"\u001b[39;49;00m\u001b[37m\u001b[39;49;00m\n",
      "\u001b[34mFROM\u001b[39;49;00m\u001b[37m \u001b[39;49;00m\u001b[33m\"\u001b[39;49;00m\u001b[33mcinema_movie\u001b[39;49;00m\u001b[33m\"\u001b[39;49;00m\u001b[37m\u001b[39;49;00m\n",
      "\u001b[34mWHERE\u001b[39;49;00m\u001b[37m \u001b[39;49;00m\u001b[34mNOT\u001b[39;49;00m\u001b[37m \u001b[39;49;00m(\u001b[33m\"\u001b[39;49;00m\u001b[33mcinema_movie\u001b[39;49;00m\u001b[33m\"\u001b[39;49;00m\u001b[34m.\u001b[39;49;00m\u001b[33m\"\u001b[39;49;00m\u001b[33mgenre\u001b[39;49;00m\u001b[33m\"\u001b[39;49;00m\u001b[37m \u001b[39;49;00m\u001b[34mIN\u001b[39;49;00m\u001b[37m \u001b[39;49;00m(\u001b[34maction\u001b[39;49;00m,\u001b[37m\u001b[39;49;00m\n",
      "\u001b[37m                                      \u001b[39;49;00mmistery))\u001b[37m\u001b[39;49;00m\n",
      "\n"
     ]
    }
   ],
   "source": [
    "queryset = Movie.objects.exclude(genre__in=[MOVIE_GENRES.action, MOVIE_GENRES.mistery])\n",
    "# str(queryset.query)\n",
    "print_sql(queryset)"
   ]
  },
  {
   "cell_type": "markdown",
   "id": "deb0b739",
   "metadata": {},
   "source": [
    "## Filter: filtering across tables\n",
    "https://docs.djangoproject.com/en/4.0/topics/db/queries/#lookups-that-span-relationships"
   ]
  },
  {
   "cell_type": "code",
   "execution_count": 14,
   "id": "82cafe2f",
   "metadata": {
    "scrolled": true
   },
   "outputs": [
    {
     "name": "stdout",
     "output_type": "stream",
     "text": [
      "\u001b[34mSELECT\u001b[39;49;00m\u001b[37m \u001b[39;49;00m\u001b[33m\"\u001b[39;49;00m\u001b[33mcinema_movie\u001b[39;49;00m\u001b[33m\"\u001b[39;49;00m\u001b[34m.\u001b[39;49;00m\u001b[33m\"\u001b[39;49;00m\u001b[33mtitle\u001b[39;49;00m\u001b[33m\"\u001b[39;49;00m,\u001b[37m\u001b[39;49;00m\n",
      "\u001b[37m       \u001b[39;49;00m\u001b[33m\"\u001b[39;49;00m\u001b[33mcinema_person\u001b[39;49;00m\u001b[33m\"\u001b[39;49;00m\u001b[34m.\u001b[39;49;00m\u001b[33m\"\u001b[39;49;00m\u001b[33mname\u001b[39;49;00m\u001b[33m\"\u001b[39;49;00m\u001b[37m\u001b[39;49;00m\n",
      "\u001b[34mFROM\u001b[39;49;00m\u001b[37m \u001b[39;49;00m\u001b[33m\"\u001b[39;49;00m\u001b[33mcinema_movie\u001b[39;49;00m\u001b[33m\"\u001b[39;49;00m\u001b[37m\u001b[39;49;00m\n",
      "\u001b[34mINNER\u001b[39;49;00m\u001b[37m \u001b[39;49;00m\u001b[34mJOIN\u001b[39;49;00m\u001b[37m \u001b[39;49;00m\u001b[33m\"\u001b[39;49;00m\u001b[33mcinema_person\u001b[39;49;00m\u001b[33m\"\u001b[39;49;00m\u001b[37m \u001b[39;49;00m\u001b[34mON\u001b[39;49;00m\u001b[37m \u001b[39;49;00m(\u001b[33m\"\u001b[39;49;00m\u001b[33mcinema_movie\u001b[39;49;00m\u001b[33m\"\u001b[39;49;00m\u001b[34m.\u001b[39;49;00m\u001b[33m\"\u001b[39;49;00m\u001b[33mdirector_id\u001b[39;49;00m\u001b[33m\"\u001b[39;49;00m\u001b[37m \u001b[39;49;00m=\u001b[37m \u001b[39;49;00m\u001b[33m\"\u001b[39;49;00m\u001b[33mcinema_person\u001b[39;49;00m\u001b[33m\"\u001b[39;49;00m\u001b[34m.\u001b[39;49;00m\u001b[33m\"\u001b[39;49;00m\u001b[33mid\u001b[39;49;00m\u001b[33m\"\u001b[39;49;00m)\u001b[37m\u001b[39;49;00m\n",
      "\u001b[34mWHERE\u001b[39;49;00m\u001b[37m \u001b[39;49;00m\u001b[33m\"\u001b[39;49;00m\u001b[33mcinema_person\u001b[39;49;00m\u001b[33m\"\u001b[39;49;00m\u001b[34m.\u001b[39;49;00m\u001b[33m\"\u001b[39;49;00m\u001b[33mname\u001b[39;49;00m\u001b[33m\"\u001b[39;49;00m\u001b[37m \u001b[39;49;00m=\u001b[37m \u001b[39;49;00mGreta\u001b[37m \u001b[39;49;00mGerwig\u001b[37m\u001b[39;49;00m\n",
      "\n"
     ]
    }
   ],
   "source": [
    "queryset = Movie.objects.filter(director__name=\"Greta Gerwig\").values_list(\"title\", \"director__name\")\n",
    "# str(queryset.query)\n",
    "print_sql(queryset)"
   ]
  },
  {
   "cell_type": "markdown",
   "id": "96645cd1",
   "metadata": {},
   "source": [
    "## select_related"
   ]
  },
  {
   "cell_type": "code",
   "execution_count": 3,
   "id": "e26e11a7",
   "metadata": {
    "scrolled": true
   },
   "outputs": [
    {
     "name": "stdout",
     "output_type": "stream",
     "text": [
      "Deep Water was directed by Adrian Lyne\n"
     ]
    },
    {
     "data": {
      "text/plain": [
       "[{'sql': 'SELECT \"cinema_movie\".\"id\", \"cinema_movie\".\"title\", \"cinema_movie\".\"sinopsis\", \"cinema_movie\".\"genre\", \"cinema_movie\".\"release_date\", \"cinema_movie\".\"available_on_netflix\", \"cinema_movie\".\"imdb_rate\", \"cinema_movie\".\"director_id\" FROM \"cinema_movie\"',\n",
       "  'time': '0.001'},\n",
       " {'sql': 'SELECT \"cinema_person\".\"id\", \"cinema_person\".\"name\", \"cinema_person\".\"birth_date\", \"cinema_person\".\"death_date\" FROM \"cinema_person\" WHERE \"cinema_person\".\"id\" = 30 LIMIT 21',\n",
       "  'time': '0.001'}]"
      ]
     },
     "execution_count": 3,
     "metadata": {},
     "output_type": "execute_result"
    }
   ],
   "source": [
    "reset_queries()\n",
    "\n",
    "queryset = Movie.objects.all()\n",
    "\n",
    "for movie in queryset:\n",
    "    print(f\"{movie.title} was directed by {movie.director.name}\")\n",
    "\n",
    "connection.queries"
   ]
  },
  {
   "cell_type": "code",
   "execution_count": 4,
   "id": "ce9b6f62",
   "metadata": {},
   "outputs": [
    {
     "name": "stdout",
     "output_type": "stream",
     "text": [
      "Deep Water was directed by Adrian Lyne\n"
     ]
    },
    {
     "data": {
      "text/plain": [
       "[{'sql': 'SELECT \"cinema_movie\".\"id\", \"cinema_movie\".\"title\", \"cinema_movie\".\"sinopsis\", \"cinema_movie\".\"genre\", \"cinema_movie\".\"release_date\", \"cinema_movie\".\"available_on_netflix\", \"cinema_movie\".\"imdb_rate\", \"cinema_movie\".\"director_id\", \"cinema_person\".\"id\", \"cinema_person\".\"name\", \"cinema_person\".\"birth_date\", \"cinema_person\".\"death_date\" FROM \"cinema_movie\" LEFT OUTER JOIN \"cinema_person\" ON (\"cinema_movie\".\"director_id\" = \"cinema_person\".\"id\")',\n",
       "  'time': '0.001'}]"
      ]
     },
     "execution_count": 4,
     "metadata": {},
     "output_type": "execute_result"
    }
   ],
   "source": [
    "reset_queries()\n",
    "\n",
    "queryset = Movie.objects.select_related(\"director\").all()\n",
    "\n",
    "for movie in queryset:\n",
    "    print(f\"{movie.title} was directed by {movie.director.name}\")\n",
    "\n",
    "connection.queries"
   ]
  },
  {
   "cell_type": "code",
   "execution_count": 5,
   "id": "c8456def",
   "metadata": {
    "scrolled": true
   },
   "outputs": [
    {
     "name": "stdout",
     "output_type": "stream",
     "text": [
      "Deep Water was directed by Adrian Lyne\n"
     ]
    },
    {
     "data": {
      "text/plain": [
       "[{'sql': 'SELECT \"cinema_movie\".\"id\", \"cinema_movie\".\"title\", \"cinema_movie\".\"director_id\", \"cinema_person\".\"id\", \"cinema_person\".\"name\", \"cinema_person\".\"birth_date\", \"cinema_person\".\"death_date\" FROM \"cinema_movie\" LEFT OUTER JOIN \"cinema_person\" ON (\"cinema_movie\".\"director_id\" = \"cinema_person\".\"id\")',\n",
       "  'time': '0.001'}]"
      ]
     },
     "execution_count": 5,
     "metadata": {},
     "output_type": "execute_result"
    }
   ],
   "source": [
    "reset_queries()\n",
    "\n",
    "queryset = Movie.objects.select_related(\"director\").only(\"title\", \"director\").all()\n",
    "\n",
    "for movie in queryset:\n",
    "    print(f\"{movie.title} was directed by {movie.director.name}\")\n",
    "\n",
    "connection.queries"
   ]
  },
  {
   "cell_type": "markdown",
   "id": "710a60c5",
   "metadata": {},
   "source": [
    "## prefetch_related\n",
    "\n",
    "Works for FK relationships, but also for M2M relation ships. However, the optimization is made by Python and not the SQL (checkout ."
   ]
  },
  {
   "cell_type": "code",
   "execution_count": 6,
   "id": "8dbc54e3",
   "metadata": {
    "scrolled": true
   },
   "outputs": [
    {
     "name": "stdout",
     "output_type": "stream",
     "text": [
      "Deep Water cast: \n",
      "\n",
      "- Ana de Armas\n",
      "\n",
      "- Ben Affleck\n",
      "\n",
      "- Jacob Elordi\n",
      "\n",
      "- Finn Wittrock\n",
      "\n",
      "- Rachel Blanchard\n",
      "\n"
     ]
    },
    {
     "data": {
      "text/plain": [
       "[{'sql': 'SELECT \"cinema_movie\".\"id\", \"cinema_movie\".\"title\", \"cinema_movie\".\"sinopsis\", \"cinema_movie\".\"genre\", \"cinema_movie\".\"release_date\", \"cinema_movie\".\"available_on_netflix\", \"cinema_movie\".\"imdb_rate\", \"cinema_movie\".\"director_id\" FROM \"cinema_movie\"',\n",
       "  'time': '0.000'},\n",
       " {'sql': 'SELECT \"cinema_person\".\"id\", \"cinema_person\".\"name\", \"cinema_person\".\"birth_date\", \"cinema_person\".\"death_date\" FROM \"cinema_person\" INNER JOIN \"cinema_movie_cast\" ON (\"cinema_person\".\"id\" = \"cinema_movie_cast\".\"person_id\") WHERE \"cinema_movie_cast\".\"movie_id\" = 3',\n",
       "  'time': '0.001'}]"
      ]
     },
     "execution_count": 6,
     "metadata": {},
     "output_type": "execute_result"
    }
   ],
   "source": [
    "reset_queries()\n",
    "\n",
    "queryset = Movie.objects.all()\n",
    "\n",
    "for movie in queryset:\n",
    "    print(f\"{movie.title} cast: \\n\")\n",
    "    \n",
    "    for person in movie.cast.all():\n",
    "        print(f\"- {person.name}\\n\")\n",
    "        \n",
    "connection.queries"
   ]
  },
  {
   "cell_type": "code",
   "execution_count": 7,
   "id": "889714dd",
   "metadata": {},
   "outputs": [
    {
     "name": "stdout",
     "output_type": "stream",
     "text": [
      "Deep Water cast: \n",
      "\n",
      "- Ana de Armas\n",
      "\n",
      "- Ben Affleck\n",
      "\n",
      "- Jacob Elordi\n",
      "\n",
      "- Finn Wittrock\n",
      "\n",
      "- Rachel Blanchard\n",
      "\n"
     ]
    },
    {
     "data": {
      "text/plain": [
       "[{'sql': 'SELECT \"cinema_movie\".\"id\", \"cinema_movie\".\"title\", \"cinema_movie\".\"sinopsis\", \"cinema_movie\".\"genre\", \"cinema_movie\".\"release_date\", \"cinema_movie\".\"available_on_netflix\", \"cinema_movie\".\"imdb_rate\", \"cinema_movie\".\"director_id\" FROM \"cinema_movie\"',\n",
       "  'time': '0.000'},\n",
       " {'sql': 'SELECT (\"cinema_movie_cast\".\"movie_id\") AS \"_prefetch_related_val_movie_id\", \"cinema_person\".\"id\", \"cinema_person\".\"name\", \"cinema_person\".\"birth_date\", \"cinema_person\".\"death_date\" FROM \"cinema_person\" INNER JOIN \"cinema_movie_cast\" ON (\"cinema_person\".\"id\" = \"cinema_movie_cast\".\"person_id\") WHERE \"cinema_movie_cast\".\"movie_id\" IN (3)',\n",
       "  'time': '0.001'}]"
      ]
     },
     "execution_count": 7,
     "metadata": {},
     "output_type": "execute_result"
    }
   ],
   "source": [
    "reset_queries()\n",
    "\n",
    "queryset = Movie.objects.prefetch_related(\"cast\").all()\n",
    "\n",
    "for movie in queryset:\n",
    "    print(f\"{movie.title} cast: \\n\")\n",
    "    \n",
    "    for person in movie.cast.all():\n",
    "        print(f\"- {person.name}\\n\")\n",
    "        \n",
    "connection.queries"
   ]
  }
 ],
 "metadata": {
  "kernelspec": {
   "display_name": "Django Shell-Plus",
   "language": "python",
   "name": "django_extensions"
  },
  "language_info": {
   "codemirror_mode": {
    "name": "ipython",
    "version": 3
   },
   "file_extension": ".py",
   "mimetype": "text/x-python",
   "name": "python",
   "nbconvert_exporter": "python",
   "pygments_lexer": "ipython3",
   "version": "3.8.13"
  }
 },
 "nbformat": 4,
 "nbformat_minor": 5
}
